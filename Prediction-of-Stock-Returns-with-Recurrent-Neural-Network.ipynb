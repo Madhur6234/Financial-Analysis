{
 "cells": [
  {
   "cell_type": "markdown",
   "metadata": {},
   "source": [
    "# 💹Prediction of Stock Returns with Recurrent Neural Network\n",
    "\n",
    "## 🔧Preparing the tools"
   ]
  },
  {
   "cell_type": "code",
   "execution_count": 1,
   "metadata": {},
   "outputs": [],
   "source": [
    "# Import all the tools\n",
    "\n",
    "# Regular EDA (Exploratory Data Analysis) and plotting libraries\n",
    "import numpy as np\n",
    "import pandas as pd\n",
    "import seaborn as sns\n",
    "import matplotlib.pyplot as plt\n",
    "%matplotlib inline\n",
    "sns.set_style(\"darkgrid\")\n",
    "\n",
    "# Models from Tensorflow (Keras)\n",
    "from tensorflow.keras.models import Sequential\n",
    "from tensorflow.keras.layers import Dense\n",
    "from tensorflow.keras.layers import LSTM\n",
    "from tensorflow.keras.layers import Dropout\n",
    "\n",
    "# Feature Scaling\n",
    "from sklearn.preprocessing import MinMaxScaler\n",
    "\n",
    "# # Model Evaluations\n",
    "from sklearn.model_selection import train_test_split, cross_val_score\n",
    "from sklearn.metrics import confusion_matrix\n",
    "from sklearn.metrics import mean_squared_log_error\n",
    "from sklearn.metrics import mean_absolute_error\n",
    "from sklearn.metrics import mean_squared_error\n",
    "from sklearn.metrics import explained_variance_score\n",
    "from sklearn.metrics import r2_score\n",
    "\n",
    "# Datareader, datetime and math module\n",
    "from pandas_datareader import data\n",
    "import datetime\n",
    "import math"
   ]
  },
  {
   "cell_type": "markdown",
   "metadata": {},
   "source": [
    "## 📇Load Data"
   ]
  },
  {
   "cell_type": "code",
   "execution_count": 2,
   "metadata": {},
   "outputs": [],
   "source": [
    "start_date = datetime.datetime(2014, 1, 1)\n",
    "end_date = datetime.datetime.today()"
   ]
  },
  {
   "cell_type": "markdown",
   "metadata": {},
   "source": [
    ">**Let's analyze the data of `'Kotak Mahindra Bank'` for predicting the stock returns, as it shows the best growth over other banks.**"
   ]
  },
  {
   "cell_type": "code",
   "execution_count": 3,
   "metadata": {},
   "outputs": [
    {
     "data": {
      "text/html": [
       "<div>\n",
       "<style scoped>\n",
       "    .dataframe tbody tr th:only-of-type {\n",
       "        vertical-align: middle;\n",
       "    }\n",
       "\n",
       "    .dataframe tbody tr th {\n",
       "        vertical-align: top;\n",
       "    }\n",
       "\n",
       "    .dataframe thead th {\n",
       "        text-align: right;\n",
       "    }\n",
       "</style>\n",
       "<table border=\"1\" class=\"dataframe\">\n",
       "  <thead>\n",
       "    <tr style=\"text-align: right;\">\n",
       "      <th></th>\n",
       "      <th>High</th>\n",
       "      <th>Low</th>\n",
       "      <th>Open</th>\n",
       "      <th>Close</th>\n",
       "      <th>Volume</th>\n",
       "      <th>Adj Close</th>\n",
       "    </tr>\n",
       "    <tr>\n",
       "      <th>Date</th>\n",
       "      <th></th>\n",
       "      <th></th>\n",
       "      <th></th>\n",
       "      <th></th>\n",
       "      <th></th>\n",
       "      <th></th>\n",
       "    </tr>\n",
       "  </thead>\n",
       "  <tbody>\n",
       "    <tr>\n",
       "      <th>2014-01-01</th>\n",
       "      <td>366.024994</td>\n",
       "      <td>360.375000</td>\n",
       "      <td>366.000000</td>\n",
       "      <td>361.274994</td>\n",
       "      <td>785536.0</td>\n",
       "      <td>359.863800</td>\n",
       "    </tr>\n",
       "    <tr>\n",
       "      <th>2014-01-02</th>\n",
       "      <td>365.725006</td>\n",
       "      <td>351.500000</td>\n",
       "      <td>361.299988</td>\n",
       "      <td>353.700012</td>\n",
       "      <td>912278.0</td>\n",
       "      <td>352.318420</td>\n",
       "    </tr>\n",
       "    <tr>\n",
       "      <th>2014-01-03</th>\n",
       "      <td>358.149994</td>\n",
       "      <td>348.299988</td>\n",
       "      <td>353.549988</td>\n",
       "      <td>356.274994</td>\n",
       "      <td>1145134.0</td>\n",
       "      <td>354.883362</td>\n",
       "    </tr>\n",
       "    <tr>\n",
       "      <th>2014-01-06</th>\n",
       "      <td>358.500000</td>\n",
       "      <td>352.799988</td>\n",
       "      <td>355.000000</td>\n",
       "      <td>357.049988</td>\n",
       "      <td>893430.0</td>\n",
       "      <td>355.655334</td>\n",
       "    </tr>\n",
       "    <tr>\n",
       "      <th>2014-01-07</th>\n",
       "      <td>357.500000</td>\n",
       "      <td>350.000000</td>\n",
       "      <td>356.000000</td>\n",
       "      <td>354.075012</td>\n",
       "      <td>1287588.0</td>\n",
       "      <td>352.691956</td>\n",
       "    </tr>\n",
       "  </tbody>\n",
       "</table>\n",
       "</div>"
      ],
      "text/plain": [
       "                  High         Low        Open       Close     Volume  \\\n",
       "Date                                                                    \n",
       "2014-01-01  366.024994  360.375000  366.000000  361.274994   785536.0   \n",
       "2014-01-02  365.725006  351.500000  361.299988  353.700012   912278.0   \n",
       "2014-01-03  358.149994  348.299988  353.549988  356.274994  1145134.0   \n",
       "2014-01-06  358.500000  352.799988  355.000000  357.049988   893430.0   \n",
       "2014-01-07  357.500000  350.000000  356.000000  354.075012  1287588.0   \n",
       "\n",
       "             Adj Close  \n",
       "Date                    \n",
       "2014-01-01  359.863800  \n",
       "2014-01-02  352.318420  \n",
       "2014-01-03  354.883362  \n",
       "2014-01-06  355.655334  \n",
       "2014-01-07  352.691956  "
      ]
     },
     "execution_count": 3,
     "metadata": {},
     "output_type": "execute_result"
    }
   ],
   "source": [
    "# Getting the dataset\n",
    "kotak_df = data.DataReader(\"KOTAKBANK.NS\", data_source='yahoo', start=start_date, end=end_date)\n",
    "\n",
    "kotak_df.head()"
   ]
  },
  {
   "cell_type": "markdown",
   "metadata": {},
   "source": [
    "## 🔎Data Exploration"
   ]
  },
  {
   "cell_type": "code",
   "execution_count": 4,
   "metadata": {},
   "outputs": [
    {
     "name": "stdout",
     "output_type": "stream",
     "text": [
      "<class 'pandas.core.frame.DataFrame'>\n",
      "DatetimeIndex: 1796 entries, 2014-01-01 to 2021-04-22\n",
      "Data columns (total 6 columns):\n",
      " #   Column     Non-Null Count  Dtype  \n",
      "---  ------     --------------  -----  \n",
      " 0   High       1796 non-null   float64\n",
      " 1   Low        1796 non-null   float64\n",
      " 2   Open       1796 non-null   float64\n",
      " 3   Close      1796 non-null   float64\n",
      " 4   Volume     1796 non-null   float64\n",
      " 5   Adj Close  1796 non-null   float64\n",
      "dtypes: float64(6)\n",
      "memory usage: 98.2 KB\n"
     ]
    }
   ],
   "source": [
    "kotak_df.info()"
   ]
  },
  {
   "cell_type": "code",
   "execution_count": 5,
   "metadata": {},
   "outputs": [
    {
     "data": {
      "text/plain": [
       "(1796, 6)"
      ]
     },
     "execution_count": 5,
     "metadata": {},
     "output_type": "execute_result"
    }
   ],
   "source": [
    "# Get the number of rows and columns in the data set\n",
    "kotak_df.shape"
   ]
  },
  {
   "cell_type": "code",
   "execution_count": 6,
   "metadata": {},
   "outputs": [
    {
     "data": {
      "image/png": "[encoded data removed]",
      "text/plain": [
       "<Figure size 1008x504 with 1 Axes>"
      ]
     },
     "metadata": {},
     "output_type": "display_data"
    }
   ],
   "source": [
    "# Visualize the Adjusted Closing Price (Adj Close) history\n",
    "plt.figure(figsize=(14, 7))\n",
    "plt.plot(kotak_df[\"Adj Close\"])\n",
    "plt.title(\"Adjusted Closing Price History\")\n",
    "plt.xlabel(\"Date\", fontsize=18)\n",
    "plt.ylabel(\"Adj Close Price\", fontsize=18);"
   ]
  },
  {
   "cell_type": "markdown",
   "metadata": {},
   "source": [
    "## 🎨Getting Data Ready"
   ]
  },
  {
   "cell_type": "code",
   "execution_count": 7,
   "metadata": {},
   "outputs": [],
   "source": [
    "# Create a new dataframe with only the \"Adj Close\" column and convert it into a numpy array\n",
    "dataset = kotak_df.filter([\"Adj Close\"]).values"
   ]
  },
  {
   "cell_type": "code",
   "execution_count": 8,
   "metadata": {},
   "outputs": [
    {
     "data": {
      "text/plain": [
       "1437"
      ]
     },
     "execution_count": 8,
     "metadata": {},
     "output_type": "execute_result"
    }
   ],
   "source": [
    "# Get the number of rows to train the model on (80 percent of the whole dataset)\n",
    "training_data_len = math.ceil(len(dataset) * 0.8)\n",
    "training_data_len"
   ]
  },
  {
   "cell_type": "markdown",
   "metadata": {},
   "source": [
    "### Feature Scaling"
   ]
  },
  {
   "cell_type": "code",
   "execution_count": 9,
   "metadata": {},
   "outputs": [
    {
     "data": {
      "text/plain": [
       "array([[0.02508526],\n",
       "       [0.0206533 ],\n",
       "       [0.02215988],\n",
       "       ...,\n",
       "       [0.81268652],\n",
       "       [0.810895  ],\n",
       "       [0.8098671 ]])"
      ]
     },
     "execution_count": 9,
     "metadata": {},
     "output_type": "execute_result"
    }
   ],
   "source": [
    "# Scale the data\n",
    "scaler = MinMaxScaler()\n",
    "scaled_data = scaler.fit_transform(dataset)\n",
    "\n",
    "scaled_data"
   ]
  },
  {
   "cell_type": "markdown",
   "metadata": {},
   "source": [
    "### Getting the training and the testing data sets"
   ]
  },
  {
   "cell_type": "code",
   "execution_count": 10,
   "metadata": {},
   "outputs": [],
   "source": [
    "# Number of timesteps (60 days)\n",
    "timesteps = 60"
   ]
  },
  {
   "cell_type": "markdown",
   "metadata": {},
   "source": [
    "#### Create the training data set"
   ]
  },
  {
   "cell_type": "code",
   "execution_count": 11,
   "metadata": {},
   "outputs": [],
   "source": [
    "# Create a new array containing values from index 0 to 1376 (training_data_len)\n",
    "train_data = scaled_data[0:training_data_len, :]\n",
    "\n",
    "# Split the data into X_train and y_train data sets\n",
    "X_train = list()\n",
    "y_train = list()\n",
    "\n",
    "for i in range(timesteps, len(train_data)):\n",
    "    X_train.append(train_data[i-timesteps:i, 0])\n",
    "    y_train.append(train_data[i, 0])"
   ]
  },
  {
   "cell_type": "markdown",
   "metadata": {},
   "source": [
    "#### Create the testing data set"
   ]
  },
  {
   "cell_type": "code",
   "execution_count": 12,
   "metadata": {},
   "outputs": [],
   "source": [
    "# Create a new array containing values from index 1376 (training_data_len) to 1795 ()\n",
    "test_data = scaled_data[training_data_len-timesteps: , :]\n",
    "\n",
    "# Create the data sets X_test and y_test\n",
    "X_test = list()\n",
    "y_test = dataset[training_data_len:, :]\n",
    "\n",
    "for i in range(timesteps, len(test_data)):\n",
    "    X_test.append(test_data[i-timesteps:i, 0])"
   ]
  },
  {
   "cell_type": "markdown",
   "metadata": {},
   "source": [
    "#### Convert the data sets into numpy array and reset it according to LSTM model"
   ]
  },
  {
   "cell_type": "code",
   "execution_count": 13,
   "metadata": {
    "scrolled": false
   },
   "outputs": [],
   "source": [
    "# Convert the X_train and y_train data sets into numpy arrays\n",
    "X_train = np.array(X_train)\n",
    "y_train = np.array(y_train)\n",
    "\n",
    "# Convert the X_test data set into numpy array\n",
    "X_test = np.array(X_test)"
   ]
  },
  {
   "cell_type": "code",
   "execution_count": 14,
   "metadata": {},
   "outputs": [
    {
     "name": "stdout",
     "output_type": "stream",
     "text": [
      "--------------------------------------------------\n",
      "X_train: (1377, 60)\n",
      "y_train: (1377,)\n",
      "\n",
      "X_test: (359, 60)\n",
      "y_test: (359, 1)\n",
      "--------------------------------------------------\n"
     ]
    }
   ],
   "source": [
    "# Shapes of the data sets\n",
    "print(\"-\"*50)\n",
    "\n",
    "# Training data set\n",
    "print(f\"X_train: {X_train.shape}\")\n",
    "print(f\"y_train: {y_train.shape}\")\n",
    "\n",
    "print()\n",
    "\n",
    "# Testing data set\n",
    "print(f\"X_test: {X_test.shape}\")\n",
    "print(f\"y_test: {y_test.shape}\")\n",
    "print(\"-\"*50)"
   ]
  },
  {
   "cell_type": "code",
   "execution_count": 15,
   "metadata": {},
   "outputs": [],
   "source": [
    "# Reshape the data sets\n",
    "\n",
    "# X_train data set\n",
    "X_train = np.reshape(X_train, (X_train.shape[0], X_train.shape[1], 1))  # (samples, timestep, features)\n",
    "\n",
    "# X_test data set\n",
    "X_test = np.reshape(X_test, (X_test.shape[0], X_test.shape[1], 1))  # (samples, timestep, features)"
   ]
  },
  {
   "cell_type": "code",
   "execution_count": 16,
   "metadata": {},
   "outputs": [
    {
     "name": "stdout",
     "output_type": "stream",
     "text": [
      "--------------------------------------------------\n",
      "X_train: (1377, 60, 1)\n",
      "y_train: (1377,)\n",
      "\n",
      "X_test: (359, 60, 1)\n",
      "y_test: (359, 1)\n",
      "--------------------------------------------------\n"
     ]
    }
   ],
   "source": [
    "# Shapes of the data sets\n",
    "print(\"-\"*50)\n",
    "\n",
    "# Training data set\n",
    "print(f\"X_train: {X_train.shape}\")\n",
    "print(f\"y_train: {y_train.shape}\")\n",
    "\n",
    "print()\n",
    "\n",
    "# Testing data set\n",
    "print(f\"X_test: {X_test.shape}\")\n",
    "print(f\"y_test: {y_test.shape}\")\n",
    "print(\"-\"*50)"
   ]
  },
  {
   "cell_type": "markdown",
   "metadata": {},
   "source": [
    "## 📐Modelling"
   ]
  },
  {
   "cell_type": "code",
   "execution_count": 17,
   "metadata": {},
   "outputs": [],
   "source": [
    "# Build the LSTM (Long short-term memory) model\n",
    "model = Sequential()\n",
    "\n",
    "# layers\n",
    "model.add(LSTM(50, return_sequences=True, input_shape=(X_train.shape[1], 1)))   # (timesteps, features)\n",
    "model.add(LSTM(50, return_sequences=False))\n",
    "model.add(Dense(25))\n",
    "\n",
    "# output layer\n",
    "model.add(Dense(1))"
   ]
  },
  {
   "cell_type": "code",
   "execution_count": 18,
   "metadata": {},
   "outputs": [],
   "source": [
    "# Compile the model\n",
    "model.compile(optimizer=\"adam\", loss=\"mse\")"
   ]
  },
  {
   "cell_type": "code",
   "execution_count": 19,
   "metadata": {
    "scrolled": false
   },
   "outputs": [
    {
     "name": "stdout",
     "output_type": "stream",
     "text": [
      "Epoch 1/10\n",
      "1377/1377 [==============================] - 45s 29ms/step - loss: 0.0051\n",
      "Epoch 2/10\n",
      "1377/1377 [==============================] - 40s 29ms/step - loss: 6.2161e-04\n",
      "Epoch 3/10\n",
      "1377/1377 [==============================] - 40s 29ms/step - loss: 3.1168e-04\n",
      "Epoch 4/10\n",
      "1377/1377 [==============================] - 45s 33ms/step - loss: 3.0032e-04\n",
      "Epoch 5/10\n",
      "1377/1377 [==============================] - 42s 31ms/step - loss: 2.3844e-04\n",
      "Epoch 6/10\n",
      "1377/1377 [==============================] - 41s 30ms/step - loss: 2.2263e-04\n",
      "Epoch 7/10\n",
      "1377/1377 [==============================] - 40s 29ms/step - loss: 3.0819e-04\n",
      "Epoch 8/10\n",
      "1377/1377 [==============================] - 39s 28ms/step - loss: 1.9129e-04\n",
      "Epoch 9/10\n",
      "1377/1377 [==============================] - 42s 30ms/step - loss: 2.2747e-04\n",
      "Epoch 10/10\n",
      "1377/1377 [==============================] - 38s 28ms/step - loss: 1.8218e-04\n"
     ]
    },
    {
     "data": {
      "text/plain": [
       "<tensorflow.python.keras.callbacks.History at 0x1e3ff6e0580>"
      ]
     },
     "execution_count": 19,
     "metadata": {},
     "output_type": "execute_result"
    }
   ],
   "source": [
    "# Train the model\n",
    "model.fit(X_train, y_train, batch_size=1, epochs=10)"
   ]
  },
  {
   "cell_type": "markdown",
   "metadata": {},
   "source": [
    "## 🧪Model Evaluation"
   ]
  },
  {
   "cell_type": "code",
   "execution_count": 20,
   "metadata": {},
   "outputs": [],
   "source": [
    "# Get the model predicted price values\n",
    "predictions = model.predict(X_test)\n",
    "predictions = scaler.inverse_transform(predictions)"
   ]
  },
  {
   "cell_type": "code",
   "execution_count": 21,
   "metadata": {},
   "outputs": [
    {
     "data": {
      "text/plain": [
       "42.310359049790364"
      ]
     },
     "execution_count": 21,
     "metadata": {},
     "output_type": "execute_result"
    }
   ],
   "source": [
    "# Get the Root Mean Squared Error (RMSE)\n",
    "np.sqrt(mean_squared_error(y_test, predictions))"
   ]
  },
  {
   "cell_type": "code",
   "execution_count": 22,
   "metadata": {},
   "outputs": [
    {
     "data": {
      "text/plain": [
       "32.11264403616818"
      ]
     },
     "execution_count": 22,
     "metadata": {},
     "output_type": "execute_result"
    }
   ],
   "source": [
    "# Get the Mean Absolute Error (MAE)\n",
    "mean_absolute_error(y_test, predictions)"
   ]
  },
  {
   "cell_type": "code",
   "execution_count": 23,
   "metadata": {},
   "outputs": [
    {
     "data": {
      "text/plain": [
       "0.9777346000091891"
      ]
     },
     "execution_count": 23,
     "metadata": {},
     "output_type": "execute_result"
    }
   ],
   "source": [
    "# Get the Explained Variance Score\n",
    "explained_variance_score(y_test, predictions)"
   ]
  },
  {
   "cell_type": "code",
   "execution_count": 34,
   "metadata": {},
   "outputs": [],
   "source": [
    "# Create an evaluation function (the competition uses RMSLE)\n",
    "\n",
    "def rmsle(y_test, y_preds):\n",
    "    \"\"\"\n",
    "    Calculate root mean squared log error (RMSLE) between predictions and the true labels.\n",
    "    \"\"\"\n",
    "    return np.sqrt(mean_squared_log_error(y_test, y_preds))\n",
    "\n",
    "def show_scores(model):\n",
    "    \"\"\"\n",
    "    Return scores for training and validation sets.\n",
    "    Note: If the testing score is higher than the training score in MAE and RMSLE, then our model is not Overfitted. \n",
    "    \"\"\"\n",
    "    train_preds = model.predict(X_train)\n",
    "    test_preds = model.predict(X_test)\n",
    "    test_preds = scaler.inverse_transform(test_preds)\n",
    "    \n",
    "    scores = {\"Training MAE\": mean_absolute_error(y_train, train_preds),\n",
    "              \"Testing MAE\": mean_absolute_error(y_test, test_preds),\n",
    "              \"Training RMSLE\": rmsle(y_train, train_preds),\n",
    "              \"Testing RMSLE\": rmsle(y_test, test_preds),\n",
    "              \"Training R^2\": r2_score(y_train, train_preds),\n",
    "              \"Testing R^2\": r2_score(y_test, test_preds)}\n",
    "    return scores"
   ]
  },
  {
   "cell_type": "code",
   "execution_count": 35,
   "metadata": {},
   "outputs": [
    {
     "data": {
      "text/plain": [
       "{'Training MAE': 0.006340090031171875,\n",
       " 'Testing MAE': 32.11264403616818,\n",
       " 'Training RMSLE': 0.006227607239398361,\n",
       " 'Testing RMSLE': 0.02843329425314044,\n",
       " 'Training R^2': 0.9976531631755111,\n",
       " 'Testing R^2': 0.9726732686442329}"
      ]
     },
     "execution_count": 35,
     "metadata": {},
     "output_type": "execute_result"
    }
   ],
   "source": [
    "show_scores(model)"
   ]
  },
  {
   "cell_type": "markdown",
   "metadata": {},
   "source": [
    "### Visualize the model evaluation"
   ]
  },
  {
   "cell_type": "markdown",
   "metadata": {},
   "source": [
    "#### Perfect Predictions vs Actual Predictions"
   ]
  },
  {
   "cell_type": "code",
   "execution_count": 24,
   "metadata": {},
   "outputs": [
    {
     "data": {
      "image/png": "[encoded data removed]",
      "text/plain": [
       "<Figure size 864x432 with 1 Axes>"
      ]
     },
     "metadata": {},
     "output_type": "display_data"
    }
   ],
   "source": [
    "plt.figure(figsize=(12, 6))\n",
    "plt.scatter(y_test, predictions)\n",
    "plt.plot(y_test, y_test, \"-r\")\n",
    "plt.legend([\"Prefect Prediction\", \"Actual Prediction\"])\n",
    "plt.title(\"Perfect Predictions vs Actual Predictions\");"
   ]
  },
  {
   "cell_type": "markdown",
   "metadata": {},
   "source": [
    "#### Training vs Validation vs Prediction"
   ]
  },
  {
   "cell_type": "code",
   "execution_count": 25,
   "metadata": {},
   "outputs": [],
   "source": [
    "k_data = kotak_df.filter([\"Adj Close\"])\n",
    "\n",
    "train = k_data[:training_data_len].copy()\n",
    "valid = k_data[training_data_len:].copy()\n",
    "\n",
    "valid[\"Predictions\"] = predictions"
   ]
  },
  {
   "cell_type": "code",
   "execution_count": 26,
   "metadata": {
    "scrolled": false
   },
   "outputs": [
    {
     "data": {
      "image/png": "[encoded data removed]",
      "text/plain": [
       "<Figure size 1152x576 with 1 Axes>"
      ]
     },
     "metadata": {},
     "output_type": "display_data"
    }
   ],
   "source": [
    "# Visualize the model\n",
    "plt.figure(figsize=(16, 8))\n",
    "plt.title(\"Model\")\n",
    "plt.xlabel(\"Date\", fontsize=18)\n",
    "plt.ylabel(\"Adj Close Price\", fontsize=18)\n",
    "plt.plot(train[\"Adj Close\"])\n",
    "plt.plot(valid[[\"Adj Close\", \"Predictions\"]])\n",
    "plt.legend([\"Train\", \"Validation\", \"Predictions\"], loc=\"upper left\");"
   ]
  },
  {
   "cell_type": "markdown",
   "metadata": {},
   "source": [
    "## 💾Save the model\n",
    "\n",
    "Exporting the Long Short-Term Memory (LSTM) model"
   ]
  },
  {
   "cell_type": "code",
   "execution_count": 27,
   "metadata": {},
   "outputs": [],
   "source": [
    "from tensorflow.keras.models import load_model"
   ]
  },
  {
   "cell_type": "code",
   "execution_count": 28,
   "metadata": {},
   "outputs": [],
   "source": [
    "# Save the model\n",
    "model.save(\"model/lstm_model.h5\")"
   ]
  },
  {
   "cell_type": "code",
   "execution_count": 30,
   "metadata": {
    "scrolled": false
   },
   "outputs": [
    {
     "name": "stdout",
     "output_type": "stream",
     "text": [
      "Root Mean Squared Error: 42.310359049790364\n",
      "Mean Absolute Error: 32.11264403616818\n"
     ]
    }
   ],
   "source": [
    "# Load the saved model\n",
    "loaded_model = load_model(\"model/lstm_model.h5\")\n",
    "\n",
    "# Get predictions\n",
    "preds = loaded_model.predict(X_test)\n",
    "preds = scaler.inverse_transform(preds)\n",
    "\n",
    "# Root Mean Squared Error and Mean Absolute Error\n",
    "rmse = np.sqrt(mean_squared_error(y_test, preds))\n",
    "mae = mean_absolute_error(y_test, preds)\n",
    "\n",
    "print(f\"Root Mean Squared Error: {rmse}\")\n",
    "print(f\"Mean Absolute Error: {mae}\")"
   ]
  }
 ],
 "metadata": {
  "kernelspec": {
   "display_name": "Python 3",
   "language": "python",
   "name": "python3"
  },
  "language_info": {
   "codemirror_mode": {
    "name": "ipython",
    "version": 3
   },
   "file_extension": ".py",
   "mimetype": "text/x-python",
   "name": "python",
   "nbconvert_exporter": "python",
   "pygments_lexer": "ipython3",
   "version": "3.8.5"
  }
 },
 "nbformat": 4,
 "nbformat_minor": 4
}
