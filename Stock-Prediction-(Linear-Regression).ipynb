{
 "cells": [
  {
   "cell_type": "markdown",
   "metadata": {},
   "source": [
    "# Stock Prediction with Linear Regression Model"
   ]
  },
  {
   "cell_type": "markdown",
   "metadata": {},
   "source": [
    "## Import Libraries"
   ]
  },
  {
   "cell_type": "code",
   "execution_count": 39,
   "metadata": {},
   "outputs": [],
   "source": [
    "import pandas as pd\n",
    "import numpy as np"
   ]
  },
  {
   "cell_type": "code",
   "execution_count": 109,
   "metadata": {},
   "outputs": [],
   "source": [
    "from sklearn.linear_model import LinearRegression\n",
    "from sklearn.model_selection import train_test_split"
   ]
  },
  {
   "cell_type": "code",
   "execution_count": 42,
   "metadata": {},
   "outputs": [],
   "source": [
    "import datetime\n",
    "from pandas_datareader import data, wb"
   ]
  },
  {
   "cell_type": "code",
   "execution_count": 85,
   "metadata": {},
   "outputs": [],
   "source": [
    "import matplotlib.pyplot as plt\n",
    "import seaborn as sns\n",
    "sns.set_style('darkgrid')\n",
    "%matplotlib inline"
   ]
  },
  {
   "cell_type": "code",
   "execution_count": 86,
   "metadata": {},
   "outputs": [],
   "source": [
    "import warnings\n",
    "warnings.filterwarnings(\"ignore\") "
   ]
  },
  {
   "cell_type": "markdown",
   "metadata": {},
   "source": [
    "## Collecting Data"
   ]
  },
  {
   "cell_type": "code",
   "execution_count": 118,
   "metadata": {},
   "outputs": [],
   "source": [
    "start_date = datetime.datetime(2010, 1, 1)\n",
    "end_date = datetime.datetime.today()         "
   ]
  },
  {
   "cell_type": "markdown",
   "metadata": {},
   "source": [
    "#### Create DataFrame"
   ]
  },
  {
   "cell_type": "code",
   "execution_count": 119,
   "metadata": {},
   "outputs": [],
   "source": [
    "SBI = data.DataReader(\"SBIN.NS\", data_source='yahoo', start=start_date, end=end_date)\n",
    "HDFC = data.DataReader(\"HDFCBANK.NS\", data_source='yahoo', start=start_date, end=end_date)\n",
    "AXIS = data.DataReader(\"AXISBANK.NS\", data_source='yahoo', start=start_date, end=end_date)\n",
    "BOB = data.DataReader(\"BANKBARODA.NS\", data_source='yahoo', start=start_date, end=end_date)\n",
    "PNB = data.DataReader(\"PNB.NS\", data_source='yahoo', start=start_date, end=end_date)\n",
    "ICICI = data.DataReader(\"ICICIBANK.NS\", data_source='yahoo', start=start_date, end=end_date)\n",
    "YESBANK = data.DataReader(\"YESBANK.NS\", data_source='yahoo', start=start_date, end=end_date)\n",
    "KOTAK = data.DataReader(\"KOTAKBANK.NS\", data_source='yahoo', start=start_date, end=end_date)"
   ]
  },
  {
   "cell_type": "markdown",
   "metadata": {},
   "source": [
    "## Getting Data Ready"
   ]
  },
  {
   "cell_type": "code",
   "execution_count": 120,
   "metadata": {},
   "outputs": [],
   "source": [
    "# Get the Adj Close Price\n",
    "sbi_df = SBI[[\"Adj Close\"]]\n",
    "hdfc_df = HDFC[[\"Adj Close\"]]\n",
    "axis_df = AXIS[[\"Adj Close\"]]\n",
    "bob_df = BOB[[\"Adj Close\"]]\n",
    "pnb_df = PNB[[\"Adj Close\"]]\n",
    "icici_df = ICICI[[\"Adj Close\"]]\n",
    "yesbank_df = YESBANK[[\"Adj Close\"]]\n",
    "kotak_df = KOTAK[[\"Adj Close\"]]"
   ]
  },
  {
   "cell_type": "code",
   "execution_count": 121,
   "metadata": {},
   "outputs": [],
   "source": [
    "# A variable for predicting 'n' days out into the future \n",
    "forecast_out = 30\n",
    "\n",
    "# Create another column (the target or dependent variable) shifted 'n' units up\n",
    "sbi_df['Prediction'] = sbi_df[['Adj Close']].shift(-forecast_out)\n",
    "hdfc_df['Prediction'] = hdfc_df[['Adj Close']].shift(-forecast_out)\n",
    "axis_df['Prediction'] = axis_df[['Adj Close']].shift(-forecast_out)\n",
    "bob_df['Prediction'] = bob_df[['Adj Close']].shift(-forecast_out)\n",
    "pnb_df['Prediction'] = pnb_df[['Adj Close']].shift(-forecast_out)\n",
    "icici_df['Prediction'] = icici_df[['Adj Close']].shift(-forecast_out)\n",
    "yesbank_df['Prediction'] = yesbank_df[['Adj Close']].shift(-forecast_out)\n",
    "kotak_df['Prediction'] = kotak_df[['Adj Close']].shift(-forecast_out)"
   ]
  },
  {
   "cell_type": "code",
   "execution_count": 122,
   "metadata": {},
   "outputs": [],
   "source": [
    "# List of the ticker symbols (as strings) in alphabetical order\n",
    "tickers = 'SBI HDFCBANK AXISBANK BANKBARODA PNB ICICIBANK YESBANK KOTAKBANK'.split()\n",
    "tickers.sort()"
   ]
  },
  {
   "cell_type": "code",
   "execution_count": 132,
   "metadata": {},
   "outputs": [
    {
     "data": {
      "text/html": [
       "<div>\n",
       "<style scoped>\n",
       "    .dataframe tbody tr th:only-of-type {\n",
       "        vertical-align: middle;\n",
       "    }\n",
       "\n",
       "    .dataframe tbody tr th {\n",
       "        vertical-align: top;\n",
       "    }\n",
       "\n",
       "    .dataframe thead tr th {\n",
       "        text-align: left;\n",
       "    }\n",
       "\n",
       "    .dataframe thead tr:last-of-type th {\n",
       "        text-align: right;\n",
       "    }\n",
       "</style>\n",
       "<table border=\"1\" class=\"dataframe\">\n",
       "  <thead>\n",
       "    <tr>\n",
       "      <th></th>\n",
       "      <th colspan=\"2\" halign=\"left\">AXISBANK</th>\n",
       "      <th colspan=\"2\" halign=\"left\">BANKBARODA</th>\n",
       "      <th colspan=\"2\" halign=\"left\">HDFCBANK</th>\n",
       "      <th colspan=\"2\" halign=\"left\">ICICIBANK</th>\n",
       "      <th colspan=\"2\" halign=\"left\">KOTAKBANK</th>\n",
       "      <th colspan=\"2\" halign=\"left\">PNB</th>\n",
       "      <th colspan=\"2\" halign=\"left\">SBI</th>\n",
       "      <th colspan=\"2\" halign=\"left\">YESBANK</th>\n",
       "    </tr>\n",
       "    <tr>\n",
       "      <th></th>\n",
       "      <th>Adj Close</th>\n",
       "      <th>Prediction</th>\n",
       "      <th>Adj Close</th>\n",
       "      <th>Prediction</th>\n",
       "      <th>Adj Close</th>\n",
       "      <th>Prediction</th>\n",
       "      <th>Adj Close</th>\n",
       "      <th>Prediction</th>\n",
       "      <th>Adj Close</th>\n",
       "      <th>Prediction</th>\n",
       "      <th>Adj Close</th>\n",
       "      <th>Prediction</th>\n",
       "      <th>Adj Close</th>\n",
       "      <th>Prediction</th>\n",
       "      <th>Adj Close</th>\n",
       "      <th>Prediction</th>\n",
       "    </tr>\n",
       "    <tr>\n",
       "      <th>Date</th>\n",
       "      <th></th>\n",
       "      <th></th>\n",
       "      <th></th>\n",
       "      <th></th>\n",
       "      <th></th>\n",
       "      <th></th>\n",
       "      <th></th>\n",
       "      <th></th>\n",
       "      <th></th>\n",
       "      <th></th>\n",
       "      <th></th>\n",
       "      <th></th>\n",
       "      <th></th>\n",
       "      <th></th>\n",
       "      <th></th>\n",
       "      <th></th>\n",
       "    </tr>\n",
       "  </thead>\n",
       "  <tbody>\n",
       "    <tr>\n",
       "      <th>2010-01-04</th>\n",
       "      <td>140.712021</td>\n",
       "      <td>151.377823</td>\n",
       "      <td>51.206989</td>\n",
       "      <td>57.293846</td>\n",
       "      <td>134.245209</td>\n",
       "      <td>130.329666</td>\n",
       "      <td>85.319977</td>\n",
       "      <td>81.561913</td>\n",
       "      <td>202.426041</td>\n",
       "      <td>186.522232</td>\n",
       "      <td>84.943443</td>\n",
       "      <td>86.630409</td>\n",
       "      <td>95.066895</td>\n",
       "      <td>85.587837</td>\n",
       "      <td>34.458496</td>\n",
       "      <td>31.044094</td>\n",
       "    </tr>\n",
       "    <tr>\n",
       "      <th>2010-01-05</th>\n",
       "      <td>143.647934</td>\n",
       "      <td>155.802994</td>\n",
       "      <td>52.686508</td>\n",
       "      <td>58.495327</td>\n",
       "      <td>134.363205</td>\n",
       "      <td>132.517624</td>\n",
       "      <td>86.130264</td>\n",
       "      <td>81.474457</td>\n",
       "      <td>204.430389</td>\n",
       "      <td>184.850494</td>\n",
       "      <td>86.255913</td>\n",
       "      <td>87.150787</td>\n",
       "      <td>95.102180</td>\n",
       "      <td>84.955849</td>\n",
       "      <td>34.965523</td>\n",
       "      <td>30.293184</td>\n",
       "    </tr>\n",
       "    <tr>\n",
       "      <th>2010-01-06</th>\n",
       "      <td>141.236801</td>\n",
       "      <td>155.235626</td>\n",
       "      <td>53.009216</td>\n",
       "      <td>56.608700</td>\n",
       "      <td>134.453751</td>\n",
       "      <td>133.316467</td>\n",
       "      <td>86.789574</td>\n",
       "      <td>80.844452</td>\n",
       "      <td>206.915863</td>\n",
       "      <td>179.573486</td>\n",
       "      <td>85.847481</td>\n",
       "      <td>86.114899</td>\n",
       "      <td>95.672699</td>\n",
       "      <td>83.333183</td>\n",
       "      <td>34.471333</td>\n",
       "      <td>29.439579</td>\n",
       "    </tr>\n",
       "    <tr>\n",
       "      <th>2010-01-07</th>\n",
       "      <td>142.236725</td>\n",
       "      <td>157.072403</td>\n",
       "      <td>53.326965</td>\n",
       "      <td>56.161865</td>\n",
       "      <td>134.803970</td>\n",
       "      <td>133.528961</td>\n",
       "      <td>85.970222</td>\n",
       "      <td>80.655098</td>\n",
       "      <td>209.240005</td>\n",
       "      <td>176.166992</td>\n",
       "      <td>84.668106</td>\n",
       "      <td>85.934959</td>\n",
       "      <td>95.137444</td>\n",
       "      <td>83.816475</td>\n",
       "      <td>33.887291</td>\n",
       "      <td>30.107061</td>\n",
       "    </tr>\n",
       "    <tr>\n",
       "      <th>2010-01-08</th>\n",
       "      <td>144.094727</td>\n",
       "      <td>155.753357</td>\n",
       "      <td>53.540455</td>\n",
       "      <td>56.971127</td>\n",
       "      <td>134.981079</td>\n",
       "      <td>133.875275</td>\n",
       "      <td>84.762535</td>\n",
       "      <td>82.221260</td>\n",
       "      <td>207.948059</td>\n",
       "      <td>173.558487</td>\n",
       "      <td>84.792007</td>\n",
       "      <td>85.910637</td>\n",
       "      <td>94.853218</td>\n",
       "      <td>83.621841</td>\n",
       "      <td>33.726841</td>\n",
       "      <td>30.312439</td>\n",
       "    </tr>\n",
       "  </tbody>\n",
       "</table>\n",
       "</div>"
      ],
      "text/plain": [
       "              AXISBANK             BANKBARODA               HDFCBANK  \\\n",
       "             Adj Close  Prediction  Adj Close Prediction   Adj Close   \n",
       "Date                                                                   \n",
       "2010-01-04  140.712021  151.377823  51.206989  57.293846  134.245209   \n",
       "2010-01-05  143.647934  155.802994  52.686508  58.495327  134.363205   \n",
       "2010-01-06  141.236801  155.235626  53.009216  56.608700  134.453751   \n",
       "2010-01-07  142.236725  157.072403  53.326965  56.161865  134.803970   \n",
       "2010-01-08  144.094727  155.753357  53.540455  56.971127  134.981079   \n",
       "\n",
       "                        ICICIBANK              KOTAKBANK              \\\n",
       "            Prediction  Adj Close Prediction   Adj Close  Prediction   \n",
       "Date                                                                   \n",
       "2010-01-04  130.329666  85.319977  81.561913  202.426041  186.522232   \n",
       "2010-01-05  132.517624  86.130264  81.474457  204.430389  184.850494   \n",
       "2010-01-06  133.316467  86.789574  80.844452  206.915863  179.573486   \n",
       "2010-01-07  133.528961  85.970222  80.655098  209.240005  176.166992   \n",
       "2010-01-08  133.875275  84.762535  82.221260  207.948059  173.558487   \n",
       "\n",
       "                  PNB                   SBI               YESBANK             \n",
       "            Adj Close Prediction  Adj Close Prediction  Adj Close Prediction  \n",
       "Date                                                                          \n",
       "2010-01-04  84.943443  86.630409  95.066895  85.587837  34.458496  31.044094  \n",
       "2010-01-05  86.255913  87.150787  95.102180  84.955849  34.965523  30.293184  \n",
       "2010-01-06  85.847481  86.114899  95.672699  83.333183  34.471333  29.439579  \n",
       "2010-01-07  84.668106  85.934959  95.137444  83.816475  33.887291  30.107061  \n",
       "2010-01-08  84.792007  85.910637  94.853218  83.621841  33.726841  30.312439  "
      ]
     },
     "execution_count": 132,
     "metadata": {},
     "output_type": "execute_result"
    }
   ],
   "source": [
    "# Create a Single DataFrame by Concatenating all the above DataFrames\n",
    "bank_stocks = pd.concat([axis_df, bob_df, hdfc_df, icici_df, kotak_df, pnb_df, sbi_df, yesbank_df], axis=1, keys=tickers)\n",
    "bank_stocks = bank_stocks[:-30]\n",
    "bank_stocks.head()"
   ]
  },
  {
   "cell_type": "markdown",
   "metadata": {},
   "source": [
    "# Creating and Evaluating the Model"
   ]
  },
  {
   "cell_type": "code",
   "execution_count": 136,
   "metadata": {},
   "outputs": [
    {
     "name": "stdout",
     "output_type": "stream",
     "text": [
      "AXISBANK\n",
      "Linear Regression Confidence: 94.211%\n",
      "\n",
      "BANKBARODA\n",
      "Linear Regression Confidence: 84.805%\n",
      "\n",
      "HDFCBANK\n",
      "Linear Regression Confidence: 97.071%\n",
      "\n",
      "ICICIBANK\n",
      "Linear Regression Confidence: 93.494%\n",
      "\n",
      "KOTAKBANK\n",
      "Linear Regression Confidence: 97.481%\n",
      "\n",
      "PNB\n",
      "Linear Regression Confidence: 81.958%\n",
      "\n",
      "SBI\n",
      "Linear Regression Confidence: 87.380%\n",
      "\n",
      "YESBANK\n",
      "Linear Regression Confidence: 94.227%\n",
      "\n"
     ]
    }
   ],
   "source": [
    "lr_accuracy = {}\n",
    "\n",
    "for i in range(len(tickers)):\n",
    "    \n",
    "    bank = bank_stocks[tickers[i]]\n",
    "    \n",
    "    # X and y\n",
    "    X = np.array(bank.drop(['Prediction'], axis=1))\n",
    "    y = np.array(bank[\"Prediction\"])\n",
    "    \n",
    "    # Training and Testing Data\n",
    "    X_train, X_test, y_train, y_test = train_test_split(X, y, test_size=0.3)\n",
    "    \n",
    "    # Instantiate Linear Regression\n",
    "    lr = LinearRegression()\n",
    "    lr.fit(X_train, y_train)\n",
    "    \n",
    "    # Evaluate Linear Regression\n",
    "    lr_confidence = lr.score(X_test, y_test)\n",
    "    lr_accuracy[tickers[i]] = lr_confidence\n",
    "    print(tickers[i])\n",
    "    print(\"Linear Regression Confidence: {:.3f}%\".format(lr_confidence*100))\n",
    "    print()"
   ]
  },
  {
   "cell_type": "code",
   "execution_count": null,
   "metadata": {},
   "outputs": [],
   "source": []
  }
 ],
 "metadata": {
  "kernelspec": {
   "display_name": "Python 3",
   "language": "python",
   "name": "python3"
  },
  "language_info": {
   "codemirror_mode": {
    "name": "ipython",
    "version": 3
   },
   "file_extension": ".py",
   "mimetype": "text/x-python",
   "name": "python",
   "nbconvert_exporter": "python",
   "pygments_lexer": "ipython3",
   "version": "3.7.3"
  }
 },
 "nbformat": 4,
 "nbformat_minor": 2
}
