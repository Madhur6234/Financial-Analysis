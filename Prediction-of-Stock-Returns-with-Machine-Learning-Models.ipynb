{
 "cells": [
  {
   "cell_type": "markdown",
   "metadata": {},
   "source": [
    "# 💹Prediction of Stock Returns with Machine Learning Models\n",
    "\n",
    "## 🔧Preparing the tools"
   ]
  },
  {
   "cell_type": "code",
   "execution_count": 139,
   "metadata": {},
   "outputs": [],
   "source": [
    "# Import all the tools\n",
    "\n",
    "# Regular EDA (Exploratory Data Analysis) and plotting libraries\n",
    "import numpy as np\n",
    "import pandas as pd\n",
    "import seaborn as sns\n",
    "import matplotlib.pyplot as plt\n",
    "%matplotlib inline\n",
    "sns.set_style(\"darkgrid\")\n",
    "\n",
    "# Models from Scikit-Learn\n",
    "from sklearn.linear_model import LinearRegression\n",
    "from sklearn.ensemble import RandomForestRegressor\n",
    "from sklearn.svm import SVR\n",
    "from sklearn.linear_model import BayesianRidge\n",
    "from sklearn.ensemble import GradientBoostingRegressor\n",
    "\n",
    "# Feature Scaling\n",
    "from sklearn.preprocessing import MinMaxScaler\n",
    "\n",
    "# Model Evaluations\n",
    "from sklearn.model_selection import train_test_split, cross_val_score\n",
    "from sklearn.metrics import mean_squared_log_error\n",
    "from sklearn.metrics import mean_squared_error\n",
    "from sklearn.metrics import mean_absolute_error\n",
    "from sklearn.metrics import explained_variance_score\n",
    "from sklearn.metrics import r2_score\n",
    "\n",
    "# Datareader and datetime module\n",
    "from pandas_datareader import data\n",
    "import datetime"
   ]
  },
  {
   "cell_type": "markdown",
   "metadata": {},
   "source": [
    "## 📇Load Data"
   ]
  },
  {
   "cell_type": "code",
   "execution_count": 119,
   "metadata": {},
   "outputs": [],
   "source": [
    "start_date = datetime.datetime(2014, 1, 1)\n",
    "end_date = datetime.datetime.today()"
   ]
  },
  {
   "cell_type": "markdown",
   "metadata": {},
   "source": [
    ">**Let's analyze the data of `Kotak Mahindra Bank` for predicting the stock returns, as it shows the best growth over other banks.**"
   ]
  },
  {
   "cell_type": "code",
   "execution_count": 120,
   "metadata": {},
   "outputs": [
    {
     "data": {
      "text/html": [
       "<div>\n",
       "<style scoped>\n",
       "    .dataframe tbody tr th:only-of-type {\n",
       "        vertical-align: middle;\n",
       "    }\n",
       "\n",
       "    .dataframe tbody tr th {\n",
       "        vertical-align: top;\n",
       "    }\n",
       "\n",
       "    .dataframe thead th {\n",
       "        text-align: right;\n",
       "    }\n",
       "</style>\n",
       "<table border=\"1\" class=\"dataframe\">\n",
       "  <thead>\n",
       "    <tr style=\"text-align: right;\">\n",
       "      <th></th>\n",
       "      <th>High</th>\n",
       "      <th>Low</th>\n",
       "      <th>Open</th>\n",
       "      <th>Close</th>\n",
       "      <th>Volume</th>\n",
       "      <th>Adj Close</th>\n",
       "    </tr>\n",
       "    <tr>\n",
       "      <th>Date</th>\n",
       "      <th></th>\n",
       "      <th></th>\n",
       "      <th></th>\n",
       "      <th></th>\n",
       "      <th></th>\n",
       "      <th></th>\n",
       "    </tr>\n",
       "  </thead>\n",
       "  <tbody>\n",
       "    <tr>\n",
       "      <th>2014-01-01</th>\n",
       "      <td>366.024994</td>\n",
       "      <td>360.375000</td>\n",
       "      <td>366.000000</td>\n",
       "      <td>361.274994</td>\n",
       "      <td>785536.0</td>\n",
       "      <td>359.863800</td>\n",
       "    </tr>\n",
       "    <tr>\n",
       "      <th>2014-01-02</th>\n",
       "      <td>365.725006</td>\n",
       "      <td>351.500000</td>\n",
       "      <td>361.299988</td>\n",
       "      <td>353.700012</td>\n",
       "      <td>912278.0</td>\n",
       "      <td>352.318420</td>\n",
       "    </tr>\n",
       "    <tr>\n",
       "      <th>2014-01-03</th>\n",
       "      <td>358.149994</td>\n",
       "      <td>348.299988</td>\n",
       "      <td>353.549988</td>\n",
       "      <td>356.274994</td>\n",
       "      <td>1145134.0</td>\n",
       "      <td>354.883362</td>\n",
       "    </tr>\n",
       "    <tr>\n",
       "      <th>2014-01-06</th>\n",
       "      <td>358.500000</td>\n",
       "      <td>352.799988</td>\n",
       "      <td>355.000000</td>\n",
       "      <td>357.049988</td>\n",
       "      <td>893430.0</td>\n",
       "      <td>355.655334</td>\n",
       "    </tr>\n",
       "    <tr>\n",
       "      <th>2014-01-07</th>\n",
       "      <td>357.500000</td>\n",
       "      <td>350.000000</td>\n",
       "      <td>356.000000</td>\n",
       "      <td>354.075012</td>\n",
       "      <td>1287588.0</td>\n",
       "      <td>352.691956</td>\n",
       "    </tr>\n",
       "  </tbody>\n",
       "</table>\n",
       "</div>"
      ],
      "text/plain": [
       "                  High         Low        Open       Close     Volume  \\\n",
       "Date                                                                    \n",
       "2014-01-01  366.024994  360.375000  366.000000  361.274994   785536.0   \n",
       "2014-01-02  365.725006  351.500000  361.299988  353.700012   912278.0   \n",
       "2014-01-03  358.149994  348.299988  353.549988  356.274994  1145134.0   \n",
       "2014-01-06  358.500000  352.799988  355.000000  357.049988   893430.0   \n",
       "2014-01-07  357.500000  350.000000  356.000000  354.075012  1287588.0   \n",
       "\n",
       "             Adj Close  \n",
       "Date                    \n",
       "2014-01-01  359.863800  \n",
       "2014-01-02  352.318420  \n",
       "2014-01-03  354.883362  \n",
       "2014-01-06  355.655334  \n",
       "2014-01-07  352.691956  "
      ]
     },
     "execution_count": 120,
     "metadata": {},
     "output_type": "execute_result"
    }
   ],
   "source": [
    "# Getting the dataset\n",
    "kotak_df = data.DataReader(\"KOTAKBANK.NS\", data_source='yahoo', start=start_date, end=end_date)\n",
    "\n",
    "kotak_df.head()"
   ]
  },
  {
   "cell_type": "markdown",
   "metadata": {},
   "source": [
    "## 🔎Data Exploration"
   ]
  },
  {
   "cell_type": "code",
   "execution_count": 140,
   "metadata": {},
   "outputs": [
    {
     "name": "stdout",
     "output_type": "stream",
     "text": [
      "<class 'pandas.core.frame.DataFrame'>\n",
      "DatetimeIndex: 1795 entries, 2014-01-01 to 2021-04-20\n",
      "Data columns (total 7 columns):\n",
      " #   Column       Non-Null Count  Dtype  \n",
      "---  ------       --------------  -----  \n",
      " 0   High         1795 non-null   float64\n",
      " 1   Low          1795 non-null   float64\n",
      " 2   Open         1795 non-null   float64\n",
      " 3   Close        1795 non-null   float64\n",
      " 4   Volume       1795 non-null   float64\n",
      " 5   Adj Close    1795 non-null   float64\n",
      " 6   Predictions  1735 non-null   float64\n",
      "dtypes: float64(7)\n",
      "memory usage: 112.2 KB\n"
     ]
    }
   ],
   "source": [
    "kotak_df.info()"
   ]
  },
  {
   "cell_type": "code",
   "execution_count": 141,
   "metadata": {},
   "outputs": [
    {
     "data": {
      "text/plain": [
       "(1795, 7)"
      ]
     },
     "execution_count": 141,
     "metadata": {},
     "output_type": "execute_result"
    }
   ],
   "source": [
    "# Get the number of rows and columns in the data set\n",
    "kotak_df.shape"
   ]
  },
  {
   "cell_type": "code",
   "execution_count": 142,
   "metadata": {},
   "outputs": [
    {
     "data": {
      "image/png": "[encoded data removed]",
      "text/plain": [
       "<Figure size 1008x504 with 1 Axes>"
      ]
     },
     "metadata": {},
     "output_type": "display_data"
    }
   ],
   "source": [
    "# Visualize the Adjusted Closing Price (Adj Close) history\n",
    "plt.figure(figsize=(14, 7))\n",
    "plt.plot(kotak_df[\"Adj Close\"])\n",
    "plt.title(\"Adjusted Closing Price History\")\n",
    "plt.xlabel(\"Date\", fontsize=18)\n",
    "plt.ylabel(\"Adj Close Price\", fontsize=18);"
   ]
  },
  {
   "cell_type": "markdown",
   "metadata": {},
   "source": [
    "## 🎨Getting Data Ready"
   ]
  },
  {
   "cell_type": "code",
   "execution_count": 122,
   "metadata": {},
   "outputs": [],
   "source": [
    "# Number of days in future\n",
    "forecast_out = 60"
   ]
  },
  {
   "cell_type": "code",
   "execution_count": 123,
   "metadata": {},
   "outputs": [
    {
     "data": {
      "text/html": [
       "<div>\n",
       "<style scoped>\n",
       "    .dataframe tbody tr th:only-of-type {\n",
       "        vertical-align: middle;\n",
       "    }\n",
       "\n",
       "    .dataframe tbody tr th {\n",
       "        vertical-align: top;\n",
       "    }\n",
       "\n",
       "    .dataframe thead th {\n",
       "        text-align: right;\n",
       "    }\n",
       "</style>\n",
       "<table border=\"1\" class=\"dataframe\">\n",
       "  <thead>\n",
       "    <tr style=\"text-align: right;\">\n",
       "      <th></th>\n",
       "      <th>High</th>\n",
       "      <th>Low</th>\n",
       "      <th>Open</th>\n",
       "      <th>Close</th>\n",
       "      <th>Volume</th>\n",
       "      <th>Adj Close</th>\n",
       "      <th>Predictions</th>\n",
       "    </tr>\n",
       "    <tr>\n",
       "      <th>Date</th>\n",
       "      <th></th>\n",
       "      <th></th>\n",
       "      <th></th>\n",
       "      <th></th>\n",
       "      <th></th>\n",
       "      <th></th>\n",
       "      <th></th>\n",
       "    </tr>\n",
       "  </thead>\n",
       "  <tbody>\n",
       "    <tr>\n",
       "      <th>2014-01-01</th>\n",
       "      <td>366.024994</td>\n",
       "      <td>360.375000</td>\n",
       "      <td>366.000000</td>\n",
       "      <td>361.274994</td>\n",
       "      <td>785536.0</td>\n",
       "      <td>359.863800</td>\n",
       "      <td>387.480499</td>\n",
       "    </tr>\n",
       "    <tr>\n",
       "      <th>2014-01-02</th>\n",
       "      <td>365.725006</td>\n",
       "      <td>351.500000</td>\n",
       "      <td>361.299988</td>\n",
       "      <td>353.700012</td>\n",
       "      <td>912278.0</td>\n",
       "      <td>352.318420</td>\n",
       "      <td>388.999573</td>\n",
       "    </tr>\n",
       "    <tr>\n",
       "      <th>2014-01-03</th>\n",
       "      <td>358.149994</td>\n",
       "      <td>348.299988</td>\n",
       "      <td>353.549988</td>\n",
       "      <td>356.274994</td>\n",
       "      <td>1145134.0</td>\n",
       "      <td>354.883362</td>\n",
       "      <td>380.358459</td>\n",
       "    </tr>\n",
       "    <tr>\n",
       "      <th>2014-01-06</th>\n",
       "      <td>358.500000</td>\n",
       "      <td>352.799988</td>\n",
       "      <td>355.000000</td>\n",
       "      <td>357.049988</td>\n",
       "      <td>893430.0</td>\n",
       "      <td>355.655334</td>\n",
       "      <td>383.272003</td>\n",
       "    </tr>\n",
       "    <tr>\n",
       "      <th>2014-01-07</th>\n",
       "      <td>357.500000</td>\n",
       "      <td>350.000000</td>\n",
       "      <td>356.000000</td>\n",
       "      <td>354.075012</td>\n",
       "      <td>1287588.0</td>\n",
       "      <td>352.691956</td>\n",
       "      <td>378.416077</td>\n",
       "    </tr>\n",
       "    <tr>\n",
       "      <th>...</th>\n",
       "      <td>...</td>\n",
       "      <td>...</td>\n",
       "      <td>...</td>\n",
       "      <td>...</td>\n",
       "      <td>...</td>\n",
       "      <td>...</td>\n",
       "      <td>...</td>\n",
       "    </tr>\n",
       "    <tr>\n",
       "      <th>2021-04-13</th>\n",
       "      <td>1786.050049</td>\n",
       "      <td>1723.449951</td>\n",
       "      <td>1745.800049</td>\n",
       "      <td>1775.849976</td>\n",
       "      <td>3118742.0</td>\n",
       "      <td>1775.849976</td>\n",
       "      <td>NaN</td>\n",
       "    </tr>\n",
       "    <tr>\n",
       "      <th>2021-04-15</th>\n",
       "      <td>1809.500000</td>\n",
       "      <td>1752.599976</td>\n",
       "      <td>1800.000000</td>\n",
       "      <td>1773.250000</td>\n",
       "      <td>3546886.0</td>\n",
       "      <td>1773.250000</td>\n",
       "      <td>NaN</td>\n",
       "    </tr>\n",
       "    <tr>\n",
       "      <th>2021-04-16</th>\n",
       "      <td>1788.150024</td>\n",
       "      <td>1760.050049</td>\n",
       "      <td>1774.000000</td>\n",
       "      <td>1764.099976</td>\n",
       "      <td>2912279.0</td>\n",
       "      <td>1764.099976</td>\n",
       "      <td>NaN</td>\n",
       "    </tr>\n",
       "    <tr>\n",
       "      <th>2021-04-19</th>\n",
       "      <td>1720.000000</td>\n",
       "      <td>1675.000000</td>\n",
       "      <td>1720.000000</td>\n",
       "      <td>1700.750000</td>\n",
       "      <td>3865423.0</td>\n",
       "      <td>1700.750000</td>\n",
       "      <td>NaN</td>\n",
       "    </tr>\n",
       "    <tr>\n",
       "      <th>2021-04-20</th>\n",
       "      <td>1733.599976</td>\n",
       "      <td>1684.349976</td>\n",
       "      <td>1725.000000</td>\n",
       "      <td>1697.699951</td>\n",
       "      <td>3317008.0</td>\n",
       "      <td>1697.699951</td>\n",
       "      <td>NaN</td>\n",
       "    </tr>\n",
       "  </tbody>\n",
       "</table>\n",
       "<p>1795 rows × 7 columns</p>\n",
       "</div>"
      ],
      "text/plain": [
       "                   High          Low         Open        Close     Volume  \\\n",
       "Date                                                                        \n",
       "2014-01-01   366.024994   360.375000   366.000000   361.274994   785536.0   \n",
       "2014-01-02   365.725006   351.500000   361.299988   353.700012   912278.0   \n",
       "2014-01-03   358.149994   348.299988   353.549988   356.274994  1145134.0   \n",
       "2014-01-06   358.500000   352.799988   355.000000   357.049988   893430.0   \n",
       "2014-01-07   357.500000   350.000000   356.000000   354.075012  1287588.0   \n",
       "...                 ...          ...          ...          ...        ...   \n",
       "2021-04-13  1786.050049  1723.449951  1745.800049  1775.849976  3118742.0   \n",
       "2021-04-15  1809.500000  1752.599976  1800.000000  1773.250000  3546886.0   \n",
       "2021-04-16  1788.150024  1760.050049  1774.000000  1764.099976  2912279.0   \n",
       "2021-04-19  1720.000000  1675.000000  1720.000000  1700.750000  3865423.0   \n",
       "2021-04-20  1733.599976  1684.349976  1725.000000  1697.699951  3317008.0   \n",
       "\n",
       "              Adj Close  Predictions  \n",
       "Date                                  \n",
       "2014-01-01   359.863800   387.480499  \n",
       "2014-01-02   352.318420   388.999573  \n",
       "2014-01-03   354.883362   380.358459  \n",
       "2014-01-06   355.655334   383.272003  \n",
       "2014-01-07   352.691956   378.416077  \n",
       "...                 ...          ...  \n",
       "2021-04-13  1775.849976          NaN  \n",
       "2021-04-15  1773.250000          NaN  \n",
       "2021-04-16  1764.099976          NaN  \n",
       "2021-04-19  1700.750000          NaN  \n",
       "2021-04-20  1697.699951          NaN  \n",
       "\n",
       "[1795 rows x 7 columns]"
      ]
     },
     "execution_count": 123,
     "metadata": {},
     "output_type": "execute_result"
    }
   ],
   "source": [
    "# A new \"Prediction\" column for the prediction\n",
    "kotak_df[\"Predictions\"] = kotak_df[\"Adj Close\"].shift(-forecast_out)\n",
    "\n",
    "kotak_df"
   ]
  },
  {
   "cell_type": "code",
   "execution_count": 124,
   "metadata": {},
   "outputs": [],
   "source": [
    "# Split data into X (features) and y (label)\n",
    "X = kotak_df[[\"Adj Close\"]][:-forecast_out]\n",
    "y = kotak_df[\"Predictions\"][:-forecast_out]"
   ]
  },
  {
   "cell_type": "code",
   "execution_count": 125,
   "metadata": {},
   "outputs": [],
   "source": [
    "# train, test, and split\n",
    "X_train, X_test, y_train, y_test = train_test_split(X, y, test_size=0.3)"
   ]
  },
  {
   "cell_type": "markdown",
   "metadata": {},
   "source": [
    "### Feature Scaling"
   ]
  },
  {
   "cell_type": "code",
   "execution_count": 126,
   "metadata": {},
   "outputs": [],
   "source": [
    "# Instantiate MinMaxScaler\n",
    "scaler = MinMaxScaler()\n",
    "\n",
    "# Fit the X_train dataset\n",
    "scaler.fit(X_train)\n",
    "\n",
    "# transform the scaled data\n",
    "X_train = scaler.transform(X_train)\n",
    "X_test = scaler.transform(X_test)\n",
    "X = scaler.transform(X)"
   ]
  },
  {
   "cell_type": "markdown",
   "metadata": {},
   "source": [
    "## 📐Modelling"
   ]
  },
  {
   "cell_type": "code",
   "execution_count": 127,
   "metadata": {},
   "outputs": [],
   "source": [
    "# Create an evaluation function (the competition uses RMSLE)\n",
    "\n",
    "def rmsle(y_test, y_preds):\n",
    "    \"\"\"\n",
    "    Calculate root mean squared log error (RMSLE) between predictions and the true labels.\n",
    "    \"\"\"\n",
    "    return np.sqrt(mean_squared_log_error(y_test, y_preds))\n",
    "\n",
    "def show_scores(model):\n",
    "    \"\"\"\n",
    "    Return scores for training and validation sets.\n",
    "    Note: If the testing score is higher than the training score in MAE and RMSLE, then our model is not Overfitted. \n",
    "    \"\"\"\n",
    "    train_preds = model.predict(X_train)\n",
    "    test_preds = model.predict(X_test)\n",
    "    scores = {\"Training MAE\": mean_absolute_error(y_train, train_preds),\n",
    "              \"Testing MAE\": mean_absolute_error(y_test, test_preds),\n",
    "              \"Training RMSLE\": rmsle(y_train, train_preds),\n",
    "              \"Testing RMSLE\": rmsle(y_test, test_preds),\n",
    "              \"Training R^2\": r2_score(y_train, train_preds),\n",
    "              \"Testing R^2\": r2_score(y_test, test_preds)}\n",
    "    return scores"
   ]
  },
  {
   "cell_type": "code",
   "execution_count": 128,
   "metadata": {},
   "outputs": [],
   "source": [
    "# Create a function to fit and score models\n",
    "def fit_and_score(models, X_train, X_test, y_train, y_test):\n",
    "    \"\"\"\n",
    "    Fits and evaluates given machine learning models.\n",
    "    models : a dict of different Scikit-Learn machine learning models.\n",
    "    X_train : training data (no labels)\n",
    "    X_test : testing data (no labels)\n",
    "    y_train : training labels\n",
    "    y_test : testing labels\n",
    "    \"\"\"\n",
    "    # Dictionay to keep model scores\n",
    "    model_scores = {}\n",
    "    \n",
    "    # Loop through models\n",
    "    for name, model in models.items():\n",
    "        \n",
    "        # Fit the model to the data\n",
    "        model.fit(X_train, y_train)\n",
    "        \n",
    "        # Evaluate the model and append its scores to model_scores\n",
    "        model_scores[name] = show_scores(model)\n",
    "    \n",
    "    return model_scores"
   ]
  },
  {
   "cell_type": "code",
   "execution_count": 129,
   "metadata": {},
   "outputs": [],
   "source": [
    "# Put models in a dictionary\n",
    "models = {\"Linear Regression\": LinearRegression(),\n",
    "          \"Random Forest Regression\": RandomForestRegressor(),\n",
    "          \"Support Vector Machine\": SVR(),\n",
    "          \"Bayesian Ridge Regression\": BayesianRidge(),\n",
    "          \"Gradient Boosting Regression\": GradientBoostingRegressor()}"
   ]
  },
  {
   "cell_type": "code",
   "execution_count": 130,
   "metadata": {},
   "outputs": [],
   "source": [
    "# Getting results of different regression models\n",
    "model_scores = fit_and_score(models=models, \n",
    "                             X_train=X_train, \n",
    "                             X_test=X_test, \n",
    "                             y_train=y_train, \n",
    "                             y_test=y_test)"
   ]
  },
  {
   "cell_type": "markdown",
   "metadata": {},
   "source": [
    "### Model Evaluation"
   ]
  },
  {
   "cell_type": "code",
   "execution_count": 131,
   "metadata": {},
   "outputs": [
    {
     "name": "stdout",
     "output_type": "stream",
     "text": [
      "--------------------------------------------------\n",
      "Linear Regression: \n",
      "\tTraining MAE: 95.386515818855\n",
      "\tTesting MAE: 98.56006034492628\n",
      "\tTraining RMSLE: 0.1154541547152222\n",
      "\tTesting RMSLE: 0.12005194164683698\n",
      "\tTraining R^2: 0.862263139311114\n",
      "\tTesting R^2: 0.8469804998087431\n",
      "--------------------------------------------------\n",
      "Random Forest Regression: \n",
      "\tTraining MAE: 32.99424745776149\n",
      "\tTesting MAE: 91.18763420780407\n",
      "\tTraining RMSLE: 0.04284553651304504\n",
      "\tTesting RMSLE: 0.11423729399404291\n",
      "\tTraining R^2: 0.9806445608239363\n",
      "\tTesting R^2: 0.8591907179890614\n",
      "--------------------------------------------------\n",
      "Support Vector Machine: \n",
      "\tTraining MAE: 153.87379841026657\n",
      "\tTesting MAE: 163.1945573043261\n",
      "\tTraining RMSLE: 0.21501618958057264\n",
      "\tTesting RMSLE: 0.22394911886811872\n",
      "\tTraining R^2: 0.6723415105195887\n",
      "\tTesting R^2: 0.6336859805273961\n",
      "--------------------------------------------------\n",
      "Bayesian Ridge Regression: \n",
      "\tTraining MAE: 95.39518592953422\n",
      "\tTesting MAE: 98.56652240192449\n",
      "\tTraining RMSLE: 0.11546114062080486\n",
      "\tTesting RMSLE: 0.1200556729460073\n",
      "\tTraining R^2: 0.862263124357689\n",
      "\tTesting R^2: 0.8469852675636852\n",
      "--------------------------------------------------\n",
      "Gradient Boosting Regression: \n",
      "\tTraining MAE: 61.953069194000065\n",
      "\tTesting MAE: 80.1631705204349\n",
      "\tTraining RMSLE: 0.07718290590699776\n",
      "\tTesting RMSLE: 0.09889302649096886\n",
      "\tTraining R^2: 0.9428444198400657\n",
      "\tTesting R^2: 0.8910700019337381\n",
      "--------------------------------------------------\n"
     ]
    }
   ],
   "source": [
    "print(\"-\"*50)\n",
    "for key, value in model_scores.items():\n",
    "    print(key + \": \")\n",
    "    for k, v in value.items():\n",
    "        print(\"\\t\" + k + \":\", end=\" \")\n",
    "        print(v)\n",
    "    print(\"-\"*50)"
   ]
  },
  {
   "cell_type": "markdown",
   "metadata": {},
   "source": [
    "### Cross Validation Score"
   ]
  },
  {
   "cell_type": "code",
   "execution_count": 132,
   "metadata": {},
   "outputs": [
    {
     "name": "stdout",
     "output_type": "stream",
     "text": [
      "--------------------------------------------------\n",
      "Linear Regression:     -102.89420194162713\n",
      "--------------------------------------------------\n",
      "Random Forest Regression:     -163.59549863157875\n",
      "--------------------------------------------------\n",
      "Support Vector Machine:     -232.74861370001864\n",
      "--------------------------------------------------\n",
      "Bayesian Ridge Regression:     -102.91563152750173\n",
      "--------------------------------------------------\n",
      "Gradient Boosting Regression:     -157.84358102689333\n",
      "--------------------------------------------------\n"
     ]
    }
   ],
   "source": [
    "print(\"-\"*50)\n",
    "for key, value in models.items():\n",
    "    print(key + \":\", end=\"     \")\n",
    "    cvs = cross_val_score(value, X, y, cv=5, scoring=\"neg_mean_absolute_error\")\n",
    "    print(np.mean(cvs))\n",
    "    print(\"-\"*50)"
   ]
  },
  {
   "cell_type": "markdown",
   "metadata": {},
   "source": [
    "### Train the ideal model"
   ]
  },
  {
   "cell_type": "code",
   "execution_count": 133,
   "metadata": {},
   "outputs": [
    {
     "data": {
      "text/plain": [
       "{'Training MAE': 95.39518592953398,\n",
       " 'Testing MAE': 98.56652240192432,\n",
       " 'Training RMSLE': 0.11546114062080468,\n",
       " 'Testing RMSLE': 0.1200556729460072,\n",
       " 'Training R^2': 0.862263124357689,\n",
       " 'Testing R^2': 0.8469852675636851}"
      ]
     },
     "execution_count": 133,
     "metadata": {},
     "output_type": "execute_result"
    }
   ],
   "source": [
    "# the ideal model, in this case it is Bayesian Ridge Regression\n",
    "ideal_model = BayesianRidge(compute_score=True, normalize=True)\n",
    "ideal_model.fit(X_train, y_train)\n",
    "\n",
    "# score for ideal_model\n",
    "show_scores(ideal_model)"
   ]
  },
  {
   "cell_type": "code",
   "execution_count": 134,
   "metadata": {
    "scrolled": true
   },
   "outputs": [
    {
     "name": "stdout",
     "output_type": "stream",
     "text": [
      "Negative Mean Absolute Error:\t-102.91563152750082\n"
     ]
    }
   ],
   "source": [
    "# Cross Validation Score for ideal_model\n",
    "print(\"Negative Mean Absolute Error:\", end=\"\\t\")\n",
    "print(cross_val_score(ideal_model, X, y, scoring=\"neg_mean_absolute_error\").mean())"
   ]
  },
  {
   "cell_type": "markdown",
   "metadata": {},
   "source": [
    "### Visualize the model evaluation"
   ]
  },
  {
   "cell_type": "code",
   "execution_count": 135,
   "metadata": {},
   "outputs": [],
   "source": [
    "predictions = ideal_model.predict(X_test)"
   ]
  },
  {
   "cell_type": "markdown",
   "metadata": {},
   "source": [
    "#### Perfect Predictions vs Actual Predictions"
   ]
  },
  {
   "cell_type": "code",
   "execution_count": 136,
   "metadata": {},
   "outputs": [
    {
     "data": {
      "image/png": "[encoded data removed]",
      "text/plain": [
       "<Figure size 864x432 with 1 Axes>"
      ]
     },
     "metadata": {},
     "output_type": "display_data"
    }
   ],
   "source": [
    "plt.figure(figsize=(12, 6))\n",
    "plt.scatter(y_test, predictions)\n",
    "plt.plot(y_test, y_test, \"-r\")\n",
    "plt.legend([\"Prefect Prediction\", \"Actual Prediction\"])\n",
    "plt.title(\"Perfect Predictions vs Actual Predictions\");"
   ]
  },
  {
   "cell_type": "markdown",
   "metadata": {},
   "source": [
    "## 💾Save the model\n",
    "\n",
    "Exporting the BayesianRidge() model with the help of `\"joblib\"`"
   ]
  },
  {
   "cell_type": "code",
   "execution_count": 137,
   "metadata": {},
   "outputs": [
    {
     "data": {
      "text/plain": [
       "['model/bayesian_ridge_regression_model.joblib']"
      ]
     },
     "execution_count": 137,
     "metadata": {},
     "output_type": "execute_result"
    }
   ],
   "source": [
    "from joblib import dump, load\n",
    "\n",
    "# Save model to file\n",
    "dump(value=ideal_model,\n",
    "     filename=\"model/bayesian_ridge_regression_model.joblib\")"
   ]
  },
  {
   "cell_type": "code",
   "execution_count": 138,
   "metadata": {},
   "outputs": [
    {
     "name": "stdout",
     "output_type": "stream",
     "text": [
      "Root Mean Squared Error: 161.13534358315167\n",
      "Mean Absolute Error: 98.56652240192432\n"
     ]
    }
   ],
   "source": [
    "# Load the model\n",
    "loaded_model = load(filename=\"model/bayesian_ridge_regression_model.joblib\")\n",
    "\n",
    "# Get predictions\n",
    "preds = loaded_model.predict(X_test)\n",
    "\n",
    "# Root Mean Squared Error and Mean Absolute Error\n",
    "rmse = np.sqrt(mean_squared_error(y_test, preds))\n",
    "mae = mean_absolute_error(y_test, preds)\n",
    "\n",
    "print(f\"Root Mean Squared Error: {rmse}\")\n",
    "print(f\"Mean Absolute Error: {mae}\")"
   ]
  }
 ],
 "metadata": {
  "kernelspec": {
   "display_name": "Python 3",
   "language": "python",
   "name": "python3"
  },
  "language_info": {
   "codemirror_mode": {
    "name": "ipython",
    "version": 3
   },
   "file_extension": ".py",
   "mimetype": "text/x-python",
   "name": "python",
   "nbconvert_exporter": "python",
   "pygments_lexer": "ipython3",
   "version": "3.8.5"
  }
 },
 "nbformat": 4,
 "nbformat_minor": 4
}
