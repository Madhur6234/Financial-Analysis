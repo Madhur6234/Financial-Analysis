{
 "cells": [
  {
   "cell_type": "markdown",
   "metadata": {},
   "source": [
    "# 💹Prediction of Stock Returns with Machine Learning Models\n",
    "\n",
    "## 🔧Preparing the tools"
   ]
  },
  {
   "cell_type": "code",
   "execution_count": 83,
   "metadata": {},
   "outputs": [],
   "source": [
    "# Import all the tools\n",
    "\n",
    "# Regular EDA (Exploratory Data Analysis) and plotting libraries\n",
    "import numpy as np\n",
    "import pandas as pd\n",
    "import seaborn as sns\n",
    "import matplotlib.pyplot as plt\n",
    "%matplotlib inline\n",
    "sns.set_style(\"darkgrid\")\n",
    "\n",
    "# Models from Scikit-Learn\n",
    "from sklearn.linear_model import LinearRegression\n",
    "from sklearn.ensemble import RandomForestRegressor\n",
    "from sklearn.svm import SVR\n",
    "from sklearn.linear_model import BayesianRidge\n",
    "from sklearn.ensemble import GradientBoostingRegressor\n",
    "\n",
    "# Feature Scaling\n",
    "from sklearn.preprocessing import MinMaxScaler\n",
    "\n",
    "# Model Evaluations\n",
    "from sklearn.model_selection import train_test_split, cross_val_score\n",
    "from sklearn.metrics import mean_squared_log_error\n",
    "from sklearn.metrics import mean_squared_error\n",
    "from sklearn.metrics import mean_absolute_error\n",
    "from sklearn.metrics import explained_variance_score\n",
    "from sklearn.metrics import r2_score\n",
    "\n",
    "# Datareader and datetime module\n",
    "from pandas_datareader import data\n",
    "import datetime"
   ]
  },
  {
   "cell_type": "markdown",
   "metadata": {},
   "source": [
    "## 📇Load Data"
   ]
  },
  {
   "cell_type": "code",
   "execution_count": 84,
   "metadata": {},
   "outputs": [],
   "source": [
    "start_date = datetime.datetime(2014, 1, 1)\n",
    "end_date = datetime.datetime.today()"
   ]
  },
  {
   "cell_type": "markdown",
   "metadata": {},
   "source": [
    ">**Let's analyze the data of `Kotak Mahindra Bank` for predicting the stock returns, as it shows the best growth over other banks.**"
   ]
  },
  {
   "cell_type": "code",
   "execution_count": 85,
   "metadata": {},
   "outputs": [
    {
     "data": {
      "text/html": [
       "<div>\n",
       "<style scoped>\n",
       "    .dataframe tbody tr th:only-of-type {\n",
       "        vertical-align: middle;\n",
       "    }\n",
       "\n",
       "    .dataframe tbody tr th {\n",
       "        vertical-align: top;\n",
       "    }\n",
       "\n",
       "    .dataframe thead th {\n",
       "        text-align: right;\n",
       "    }\n",
       "</style>\n",
       "<table border=\"1\" class=\"dataframe\">\n",
       "  <thead>\n",
       "    <tr style=\"text-align: right;\">\n",
       "      <th></th>\n",
       "      <th>High</th>\n",
       "      <th>Low</th>\n",
       "      <th>Open</th>\n",
       "      <th>Close</th>\n",
       "      <th>Volume</th>\n",
       "      <th>Adj Close</th>\n",
       "    </tr>\n",
       "    <tr>\n",
       "      <th>Date</th>\n",
       "      <th></th>\n",
       "      <th></th>\n",
       "      <th></th>\n",
       "      <th></th>\n",
       "      <th></th>\n",
       "      <th></th>\n",
       "    </tr>\n",
       "  </thead>\n",
       "  <tbody>\n",
       "    <tr>\n",
       "      <th>2014-01-01</th>\n",
       "      <td>366.024994</td>\n",
       "      <td>360.375000</td>\n",
       "      <td>366.000000</td>\n",
       "      <td>361.274994</td>\n",
       "      <td>785536.0</td>\n",
       "      <td>359.863800</td>\n",
       "    </tr>\n",
       "    <tr>\n",
       "      <th>2014-01-02</th>\n",
       "      <td>365.725006</td>\n",
       "      <td>351.500000</td>\n",
       "      <td>361.299988</td>\n",
       "      <td>353.700012</td>\n",
       "      <td>912278.0</td>\n",
       "      <td>352.318420</td>\n",
       "    </tr>\n",
       "    <tr>\n",
       "      <th>2014-01-03</th>\n",
       "      <td>358.149994</td>\n",
       "      <td>348.299988</td>\n",
       "      <td>353.549988</td>\n",
       "      <td>356.274994</td>\n",
       "      <td>1145134.0</td>\n",
       "      <td>354.883362</td>\n",
       "    </tr>\n",
       "    <tr>\n",
       "      <th>2014-01-06</th>\n",
       "      <td>358.500000</td>\n",
       "      <td>352.799988</td>\n",
       "      <td>355.000000</td>\n",
       "      <td>357.049988</td>\n",
       "      <td>893430.0</td>\n",
       "      <td>355.655334</td>\n",
       "    </tr>\n",
       "    <tr>\n",
       "      <th>2014-01-07</th>\n",
       "      <td>357.500000</td>\n",
       "      <td>350.000000</td>\n",
       "      <td>356.000000</td>\n",
       "      <td>354.075012</td>\n",
       "      <td>1287588.0</td>\n",
       "      <td>352.691956</td>\n",
       "    </tr>\n",
       "  </tbody>\n",
       "</table>\n",
       "</div>"
      ],
      "text/plain": [
       "                  High         Low        Open       Close     Volume  \\\n",
       "Date                                                                    \n",
       "2014-01-01  366.024994  360.375000  366.000000  361.274994   785536.0   \n",
       "2014-01-02  365.725006  351.500000  361.299988  353.700012   912278.0   \n",
       "2014-01-03  358.149994  348.299988  353.549988  356.274994  1145134.0   \n",
       "2014-01-06  358.500000  352.799988  355.000000  357.049988   893430.0   \n",
       "2014-01-07  357.500000  350.000000  356.000000  354.075012  1287588.0   \n",
       "\n",
       "             Adj Close  \n",
       "Date                    \n",
       "2014-01-01  359.863800  \n",
       "2014-01-02  352.318420  \n",
       "2014-01-03  354.883362  \n",
       "2014-01-06  355.655334  \n",
       "2014-01-07  352.691956  "
      ]
     },
     "execution_count": 85,
     "metadata": {},
     "output_type": "execute_result"
    }
   ],
   "source": [
    "# Getting the dataset\n",
    "kotak_df = data.DataReader(\"KOTAKBANK.NS\", data_source='yahoo', start=start_date, end=end_date)\n",
    "\n",
    "kotak_df.head()"
   ]
  },
  {
   "cell_type": "markdown",
   "metadata": {},
   "source": [
    "## 🔎Data Exploration"
   ]
  },
  {
   "cell_type": "code",
   "execution_count": 86,
   "metadata": {},
   "outputs": [
    {
     "name": "stdout",
     "output_type": "stream",
     "text": [
      "<class 'pandas.core.frame.DataFrame'>\n",
      "DatetimeIndex: 1796 entries, 2014-01-01 to 2021-04-22\n",
      "Data columns (total 6 columns):\n",
      " #   Column     Non-Null Count  Dtype  \n",
      "---  ------     --------------  -----  \n",
      " 0   High       1796 non-null   float64\n",
      " 1   Low        1796 non-null   float64\n",
      " 2   Open       1796 non-null   float64\n",
      " 3   Close      1796 non-null   float64\n",
      " 4   Volume     1796 non-null   float64\n",
      " 5   Adj Close  1796 non-null   float64\n",
      "dtypes: float64(6)\n",
      "memory usage: 98.2 KB\n"
     ]
    }
   ],
   "source": [
    "kotak_df.info()"
   ]
  },
  {
   "cell_type": "code",
   "execution_count": 87,
   "metadata": {},
   "outputs": [
    {
     "data": {
      "text/plain": [
       "(1796, 6)"
      ]
     },
     "execution_count": 87,
     "metadata": {},
     "output_type": "execute_result"
    }
   ],
   "source": [
    "# Get the number of rows and columns in the data set\n",
    "kotak_df.shape"
   ]
  },
  {
   "cell_type": "code",
   "execution_count": 88,
   "metadata": {},
   "outputs": [
    {
     "data": {
      "image/png": "[encoded data removed]",
      "text/plain": [
       "<Figure size 1008x504 with 1 Axes>"
      ]
     },
     "metadata": {},
     "output_type": "display_data"
    }
   ],
   "source": [
    "# Visualize the Adjusted Closing Price (Adj Close) history\n",
    "plt.figure(figsize=(14, 7))\n",
    "plt.plot(kotak_df[\"Adj Close\"])\n",
    "plt.title(\"Adjusted Closing Price History\")\n",
    "plt.xlabel(\"Date\", fontsize=18)\n",
    "plt.ylabel(\"Adj Close Price\", fontsize=18);"
   ]
  },
  {
   "cell_type": "markdown",
   "metadata": {},
   "source": [
    "## 🎨Getting Data Ready"
   ]
  },
  {
   "cell_type": "code",
   "execution_count": 89,
   "metadata": {},
   "outputs": [],
   "source": [
    "# Number of days in future\n",
    "forecast_out = 30"
   ]
  },
  {
   "cell_type": "code",
   "execution_count": 90,
   "metadata": {},
   "outputs": [
    {
     "data": {
      "text/html": [
       "<div>\n",
       "<style scoped>\n",
       "    .dataframe tbody tr th:only-of-type {\n",
       "        vertical-align: middle;\n",
       "    }\n",
       "\n",
       "    .dataframe tbody tr th {\n",
       "        vertical-align: top;\n",
       "    }\n",
       "\n",
       "    .dataframe thead th {\n",
       "        text-align: right;\n",
       "    }\n",
       "</style>\n",
       "<table border=\"1\" class=\"dataframe\">\n",
       "  <thead>\n",
       "    <tr style=\"text-align: right;\">\n",
       "      <th></th>\n",
       "      <th>High</th>\n",
       "      <th>Low</th>\n",
       "      <th>Open</th>\n",
       "      <th>Close</th>\n",
       "      <th>Volume</th>\n",
       "      <th>Adj Close</th>\n",
       "      <th>Predictions</th>\n",
       "    </tr>\n",
       "    <tr>\n",
       "      <th>Date</th>\n",
       "      <th></th>\n",
       "      <th></th>\n",
       "      <th></th>\n",
       "      <th></th>\n",
       "      <th></th>\n",
       "      <th></th>\n",
       "      <th></th>\n",
       "    </tr>\n",
       "  </thead>\n",
       "  <tbody>\n",
       "    <tr>\n",
       "      <th>2014-01-01</th>\n",
       "      <td>366.024994</td>\n",
       "      <td>360.375000</td>\n",
       "      <td>366.000000</td>\n",
       "      <td>361.274994</td>\n",
       "      <td>785536.0</td>\n",
       "      <td>359.863800</td>\n",
       "      <td>323.506409</td>\n",
       "    </tr>\n",
       "    <tr>\n",
       "      <th>2014-01-02</th>\n",
       "      <td>365.725006</td>\n",
       "      <td>351.500000</td>\n",
       "      <td>361.299988</td>\n",
       "      <td>353.700012</td>\n",
       "      <td>912278.0</td>\n",
       "      <td>352.318420</td>\n",
       "      <td>317.156311</td>\n",
       "    </tr>\n",
       "    <tr>\n",
       "      <th>2014-01-03</th>\n",
       "      <td>358.149994</td>\n",
       "      <td>348.299988</td>\n",
       "      <td>353.549988</td>\n",
       "      <td>356.274994</td>\n",
       "      <td>1145134.0</td>\n",
       "      <td>354.883362</td>\n",
       "      <td>321.962463</td>\n",
       "    </tr>\n",
       "    <tr>\n",
       "      <th>2014-01-06</th>\n",
       "      <td>358.500000</td>\n",
       "      <td>352.799988</td>\n",
       "      <td>355.000000</td>\n",
       "      <td>357.049988</td>\n",
       "      <td>893430.0</td>\n",
       "      <td>355.655334</td>\n",
       "      <td>324.104034</td>\n",
       "    </tr>\n",
       "    <tr>\n",
       "      <th>2014-01-07</th>\n",
       "      <td>357.500000</td>\n",
       "      <td>350.000000</td>\n",
       "      <td>356.000000</td>\n",
       "      <td>354.075012</td>\n",
       "      <td>1287588.0</td>\n",
       "      <td>352.691956</td>\n",
       "      <td>338.821350</td>\n",
       "    </tr>\n",
       "    <tr>\n",
       "      <th>...</th>\n",
       "      <td>...</td>\n",
       "      <td>...</td>\n",
       "      <td>...</td>\n",
       "      <td>...</td>\n",
       "      <td>...</td>\n",
       "      <td>...</td>\n",
       "      <td>...</td>\n",
       "    </tr>\n",
       "    <tr>\n",
       "      <th>2021-04-15</th>\n",
       "      <td>1809.500000</td>\n",
       "      <td>1752.599976</td>\n",
       "      <td>1800.000000</td>\n",
       "      <td>1773.250000</td>\n",
       "      <td>3546886.0</td>\n",
       "      <td>1773.250000</td>\n",
       "      <td>NaN</td>\n",
       "    </tr>\n",
       "    <tr>\n",
       "      <th>2021-04-16</th>\n",
       "      <td>1788.150024</td>\n",
       "      <td>1760.050049</td>\n",
       "      <td>1774.000000</td>\n",
       "      <td>1764.099976</td>\n",
       "      <td>2912279.0</td>\n",
       "      <td>1764.099976</td>\n",
       "      <td>NaN</td>\n",
       "    </tr>\n",
       "    <tr>\n",
       "      <th>2021-04-19</th>\n",
       "      <td>1720.000000</td>\n",
       "      <td>1675.000000</td>\n",
       "      <td>1720.000000</td>\n",
       "      <td>1700.750000</td>\n",
       "      <td>3865423.0</td>\n",
       "      <td>1700.750000</td>\n",
       "      <td>NaN</td>\n",
       "    </tr>\n",
       "    <tr>\n",
       "      <th>2021-04-20</th>\n",
       "      <td>1733.599976</td>\n",
       "      <td>1684.349976</td>\n",
       "      <td>1725.000000</td>\n",
       "      <td>1697.699951</td>\n",
       "      <td>3317008.0</td>\n",
       "      <td>1697.699951</td>\n",
       "      <td>NaN</td>\n",
       "    </tr>\n",
       "    <tr>\n",
       "      <th>2021-04-22</th>\n",
       "      <td>1700.000000</td>\n",
       "      <td>1669.199951</td>\n",
       "      <td>1689.750000</td>\n",
       "      <td>1699.500000</td>\n",
       "      <td>964933.0</td>\n",
       "      <td>1699.500000</td>\n",
       "      <td>NaN</td>\n",
       "    </tr>\n",
       "  </tbody>\n",
       "</table>\n",
       "<p>1796 rows × 7 columns</p>\n",
       "</div>"
      ],
      "text/plain": [
       "                   High          Low         Open        Close     Volume  \\\n",
       "Date                                                                        \n",
       "2014-01-01   366.024994   360.375000   366.000000   361.274994   785536.0   \n",
       "2014-01-02   365.725006   351.500000   361.299988   353.700012   912278.0   \n",
       "2014-01-03   358.149994   348.299988   353.549988   356.274994  1145134.0   \n",
       "2014-01-06   358.500000   352.799988   355.000000   357.049988   893430.0   \n",
       "2014-01-07   357.500000   350.000000   356.000000   354.075012  1287588.0   \n",
       "...                 ...          ...          ...          ...        ...   \n",
       "2021-04-15  1809.500000  1752.599976  1800.000000  1773.250000  3546886.0   \n",
       "2021-04-16  1788.150024  1760.050049  1774.000000  1764.099976  2912279.0   \n",
       "2021-04-19  1720.000000  1675.000000  1720.000000  1700.750000  3865423.0   \n",
       "2021-04-20  1733.599976  1684.349976  1725.000000  1697.699951  3317008.0   \n",
       "2021-04-22  1700.000000  1669.199951  1689.750000  1699.500000   964933.0   \n",
       "\n",
       "              Adj Close  Predictions  \n",
       "Date                                  \n",
       "2014-01-01   359.863800   323.506409  \n",
       "2014-01-02   352.318420   317.156311  \n",
       "2014-01-03   354.883362   321.962463  \n",
       "2014-01-06   355.655334   324.104034  \n",
       "2014-01-07   352.691956   338.821350  \n",
       "...                 ...          ...  \n",
       "2021-04-15  1773.250000          NaN  \n",
       "2021-04-16  1764.099976          NaN  \n",
       "2021-04-19  1700.750000          NaN  \n",
       "2021-04-20  1697.699951          NaN  \n",
       "2021-04-22  1699.500000          NaN  \n",
       "\n",
       "[1796 rows x 7 columns]"
      ]
     },
     "execution_count": 90,
     "metadata": {},
     "output_type": "execute_result"
    }
   ],
   "source": [
    "# A new \"Prediction\" column for the prediction\n",
    "kotak_df[\"Predictions\"] = kotak_df[\"Adj Close\"].shift(-forecast_out)\n",
    "\n",
    "kotak_df"
   ]
  },
  {
   "cell_type": "code",
   "execution_count": 91,
   "metadata": {},
   "outputs": [],
   "source": [
    "# Split data into X (features) and y (label)\n",
    "X = kotak_df[[\"Adj Close\"]][:-forecast_out]\n",
    "y = kotak_df[\"Predictions\"][:-forecast_out]"
   ]
  },
  {
   "cell_type": "code",
   "execution_count": 92,
   "metadata": {},
   "outputs": [],
   "source": [
    "# train, test, and split\n",
    "X_train, X_test, y_train, y_test = train_test_split(X, y, test_size=0.3)"
   ]
  },
  {
   "cell_type": "markdown",
   "metadata": {},
   "source": [
    "### Feature Scaling"
   ]
  },
  {
   "cell_type": "code",
   "execution_count": 93,
   "metadata": {},
   "outputs": [],
   "source": [
    "# Instantiate MinMaxScaler\n",
    "scaler = MinMaxScaler()\n",
    "\n",
    "# Fit the X_train dataset\n",
    "scaler.fit(X_train)\n",
    "\n",
    "# transform the scaled data\n",
    "X_train = scaler.transform(X_train)\n",
    "X_test = scaler.transform(X_test)\n",
    "X = scaler.transform(X)"
   ]
  },
  {
   "cell_type": "markdown",
   "metadata": {},
   "source": [
    "## 📐Modelling"
   ]
  },
  {
   "cell_type": "code",
   "execution_count": 94,
   "metadata": {},
   "outputs": [],
   "source": [
    "# Create an evaluation function (the competition uses RMSLE)\n",
    "\n",
    "def rmsle(y_test, y_preds):\n",
    "    \"\"\"\n",
    "    Calculate root mean squared log error (RMSLE) between predictions and the true labels.\n",
    "    \"\"\"\n",
    "    return np.sqrt(mean_squared_log_error(y_test, y_preds))\n",
    "\n",
    "def show_scores(model):\n",
    "    \"\"\"\n",
    "    Return scores for training and validation sets.\n",
    "    Note: If the testing score is higher than the training score in MAE and RMSLE, then our model is not Overfitted. \n",
    "    \"\"\"\n",
    "    train_preds = model.predict(X_train)\n",
    "    test_preds = model.predict(X_test)\n",
    "    scores = {\"Training MAE\": mean_absolute_error(y_train, train_preds),\n",
    "              \"Testing MAE\": mean_absolute_error(y_test, test_preds),\n",
    "              \"Training RMSLE\": rmsle(y_train, train_preds),\n",
    "              \"Testing RMSLE\": rmsle(y_test, test_preds),\n",
    "              \"Training R^2\": r2_score(y_train, train_preds),\n",
    "              \"Testing R^2\": r2_score(y_test, test_preds)}\n",
    "    return scores"
   ]
  },
  {
   "cell_type": "code",
   "execution_count": 95,
   "metadata": {},
   "outputs": [],
   "source": [
    "# Create a function to fit and score models\n",
    "def fit_and_score(models, X_train, X_test, y_train, y_test):\n",
    "    \"\"\"\n",
    "    Fits and evaluates given machine learning models.\n",
    "    models : a dict of different Scikit-Learn machine learning models.\n",
    "    X_train : training data (no labels)\n",
    "    X_test : testing data (no labels)\n",
    "    y_train : training labels\n",
    "    y_test : testing labels\n",
    "    \"\"\"\n",
    "    # Dictionay to keep model scores\n",
    "    model_scores = {}\n",
    "    \n",
    "    # Loop through models\n",
    "    for name, model in models.items():\n",
    "        \n",
    "        # Fit the model to the data\n",
    "        model.fit(X_train, y_train)\n",
    "        \n",
    "        # Evaluate the model and append its scores to model_scores\n",
    "        model_scores[name] = show_scores(model)\n",
    "    \n",
    "    return model_scores"
   ]
  },
  {
   "cell_type": "code",
   "execution_count": 96,
   "metadata": {},
   "outputs": [],
   "source": [
    "# Put models in a dictionary\n",
    "models = {\"Linear Regression\": LinearRegression(),\n",
    "          \"Random Forest Regression\": RandomForestRegressor(),\n",
    "          \"Support Vector Machine\": SVR(),\n",
    "          \"Bayesian Ridge Regression\": BayesianRidge(),\n",
    "          \"Gradient Boosting Regression\": GradientBoostingRegressor()}"
   ]
  },
  {
   "cell_type": "code",
   "execution_count": 97,
   "metadata": {},
   "outputs": [],
   "source": [
    "# Getting results of different regression models\n",
    "model_scores = fit_and_score(models=models, \n",
    "                             X_train=X_train, \n",
    "                             X_test=X_test, \n",
    "                             y_train=y_train, \n",
    "                             y_test=y_test)"
   ]
  },
  {
   "cell_type": "markdown",
   "metadata": {},
   "source": [
    "### Model Evaluation"
   ]
  },
  {
   "cell_type": "code",
   "execution_count": 98,
   "metadata": {},
   "outputs": [
    {
     "name": "stdout",
     "output_type": "stream",
     "text": [
      "--------------------------------------------------\n",
      "Linear Regression: \n",
      "\tTraining MAE: 64.77340768815793\n",
      "\tTesting MAE: 65.83806957131192\n",
      "\tTraining RMSLE: 0.08440771268484024\n",
      "\tTesting RMSLE: 0.08691190706304407\n",
      "\tTraining R^2: 0.9331144365931608\n",
      "\tTesting R^2: 0.9282446441172985\n",
      "--------------------------------------------------\n",
      "Random Forest Regression: \n",
      "\tTraining MAE: 26.07971933731347\n",
      "\tTesting MAE: 73.78508177205897\n",
      "\tTraining RMSLE: 0.03362209251392666\n",
      "\tTesting RMSLE: 0.09694442926056414\n",
      "\tTraining R^2: 0.9888634865951123\n",
      "\tTesting R^2: 0.9073017176993411\n",
      "--------------------------------------------------\n",
      "Support Vector Machine: \n",
      "\tTraining MAE: 150.25794128398442\n",
      "\tTesting MAE: 146.89499757448885\n",
      "\tTraining RMSLE: 0.22939065521862673\n",
      "\tTesting RMSLE: 0.2263530899138807\n",
      "\tTraining R^2: 0.6671929796583757\n",
      "\tTesting R^2: 0.6982918775577069\n",
      "--------------------------------------------------\n",
      "Bayesian Ridge Regression: \n",
      "\tTraining MAE: 64.77514387451093\n",
      "\tTesting MAE: 65.8397436717626\n",
      "\tTraining RMSLE: 0.08441127092279982\n",
      "\tTesting RMSLE: 0.08691520717955127\n",
      "\tTraining R^2: 0.9331144334497751\n",
      "\tTesting R^2: 0.9282436360159582\n",
      "--------------------------------------------------\n",
      "Gradient Boosting Regression: \n",
      "\tTraining MAE: 50.05063532622326\n",
      "\tTesting MAE: 62.777865161214535\n",
      "\tTraining RMSLE: 0.06308029338540487\n",
      "\tTesting RMSLE: 0.08178946379423283\n",
      "\tTraining R^2: 0.963466644993528\n",
      "\tTesting R^2: 0.9335006907337324\n",
      "--------------------------------------------------\n"
     ]
    }
   ],
   "source": [
    "print(\"-\"*50)\n",
    "for key, value in model_scores.items():\n",
    "    print(key + \": \")\n",
    "    for k, v in value.items():\n",
    "        print(\"\\t\" + k + \":\", end=\" \")\n",
    "        print(v)\n",
    "    print(\"-\"*50)"
   ]
  },
  {
   "cell_type": "markdown",
   "metadata": {},
   "source": [
    "### Cross Validation Score"
   ]
  },
  {
   "cell_type": "code",
   "execution_count": 99,
   "metadata": {},
   "outputs": [
    {
     "name": "stdout",
     "output_type": "stream",
     "text": [
      "--------------------------------------------------\n",
      "Linear Regression:     -67.97771630549586\n",
      "--------------------------------------------------\n",
      "Random Forest Regression:     -129.97182678799487\n",
      "--------------------------------------------------\n",
      "Support Vector Machine:     -222.43065571126846\n",
      "--------------------------------------------------\n",
      "Bayesian Ridge Regression:     -67.9829698560632\n",
      "--------------------------------------------------\n",
      "Gradient Boosting Regression:     -122.60706219700617\n",
      "--------------------------------------------------\n"
     ]
    }
   ],
   "source": [
    "print(\"-\"*50)\n",
    "for key, value in models.items():\n",
    "    print(key + \":\", end=\"     \")\n",
    "    cvs = cross_val_score(value, X, y, cv=5, scoring=\"neg_mean_absolute_error\")\n",
    "    print(np.mean(cvs))\n",
    "    print(\"-\"*50)"
   ]
  },
  {
   "cell_type": "markdown",
   "metadata": {},
   "source": [
    "### Train the ideal models"
   ]
  },
  {
   "cell_type": "markdown",
   "metadata": {},
   "source": [
    "#### Linear Regression Model:"
   ]
  },
  {
   "cell_type": "code",
   "execution_count": 100,
   "metadata": {},
   "outputs": [
    {
     "data": {
      "text/plain": [
       "{'Training MAE': 64.77340768815793,\n",
       " 'Testing MAE': 65.83806957131192,\n",
       " 'Training RMSLE': 0.08440771268484024,\n",
       " 'Testing RMSLE': 0.08691190706304407,\n",
       " 'Training R^2': 0.9331144365931608,\n",
       " 'Testing R^2': 0.9282446441172985}"
      ]
     },
     "execution_count": 100,
     "metadata": {},
     "output_type": "execute_result"
    }
   ],
   "source": [
    "lr_model = LinearRegression()\n",
    "lr_model.fit(X_train, y_train)\n",
    "\n",
    "# score for Linear Regression model\n",
    "show_scores(lr_model)"
   ]
  },
  {
   "cell_type": "code",
   "execution_count": 101,
   "metadata": {},
   "outputs": [
    {
     "name": "stdout",
     "output_type": "stream",
     "text": [
      "Negative Mean Absolute Error:\t-67.97771630549586\n"
     ]
    }
   ],
   "source": [
    "# Cross Validation Score for Linear Regression\n",
    "print(\"Negative Mean Absolute Error:\", end=\"\\t\")\n",
    "print(cross_val_score(lr_model, X, y, scoring=\"neg_mean_absolute_error\").mean())"
   ]
  },
  {
   "cell_type": "markdown",
   "metadata": {},
   "source": [
    "#### Bayesian Ridge Regression:"
   ]
  },
  {
   "cell_type": "code",
   "execution_count": 102,
   "metadata": {},
   "outputs": [
    {
     "data": {
      "text/plain": [
       "{'Training MAE': 64.77514387451093,\n",
       " 'Testing MAE': 65.83974367176259,\n",
       " 'Training RMSLE': 0.08441127092279979,\n",
       " 'Testing RMSLE': 0.08691520717955126,\n",
       " 'Training R^2': 0.933114433449775,\n",
       " 'Testing R^2': 0.9282436360159583}"
      ]
     },
     "execution_count": 102,
     "metadata": {},
     "output_type": "execute_result"
    }
   ],
   "source": [
    "br_model = BayesianRidge(compute_score=True, normalize=True)\n",
    "br_model.fit(X_train, y_train)\n",
    "\n",
    "# score for Bayesian Ridge Regression model\n",
    "show_scores(br_model)"
   ]
  },
  {
   "cell_type": "code",
   "execution_count": 103,
   "metadata": {
    "scrolled": true
   },
   "outputs": [
    {
     "name": "stdout",
     "output_type": "stream",
     "text": [
      "Negative Mean Absolute Error:\t-67.98296985606319\n"
     ]
    }
   ],
   "source": [
    "# Cross Validation Score for ideal_model\n",
    "print(\"Negative Mean Absolute Error:\", end=\"\\t\")\n",
    "print(cross_val_score(br_model, X, y, scoring=\"neg_mean_absolute_error\").mean())"
   ]
  },
  {
   "cell_type": "markdown",
   "metadata": {},
   "source": [
    "### Visualize the model evaluation"
   ]
  },
  {
   "cell_type": "markdown",
   "metadata": {},
   "source": [
    "#### Perfect Predictions vs Actual Predictions"
   ]
  },
  {
   "cell_type": "markdown",
   "metadata": {},
   "source": [
    "#### Linear Regression"
   ]
  },
  {
   "cell_type": "code",
   "execution_count": 104,
   "metadata": {},
   "outputs": [],
   "source": [
    "lr_predictions = lr_model.predict(X_test)"
   ]
  },
  {
   "cell_type": "code",
   "execution_count": 105,
   "metadata": {},
   "outputs": [
    {
     "data": {
      "image/png": "[encoded data removed]",
      "text/plain": [
       "<Figure size 864x432 with 1 Axes>"
      ]
     },
     "metadata": {},
     "output_type": "display_data"
    }
   ],
   "source": [
    "plt.figure(figsize=(12, 6))\n",
    "plt.scatter(y_test, lr_predictions)\n",
    "plt.plot(y_test, y_test, \"-r\")\n",
    "plt.legend([\"Prefect Prediction\", \"Actual Prediction\"])\n",
    "plt.title(\"Perfect Predictions vs Actual Predictions\");"
   ]
  },
  {
   "cell_type": "markdown",
   "metadata": {},
   "source": [
    "#### Bayesian Ridge Regression:"
   ]
  },
  {
   "cell_type": "code",
   "execution_count": 106,
   "metadata": {},
   "outputs": [],
   "source": [
    "br_predictions = br_model.predict(X_test)"
   ]
  },
  {
   "cell_type": "code",
   "execution_count": 107,
   "metadata": {},
   "outputs": [
    {
     "data": {
      "image/png": "[encoded data removed]",
      "text/plain": [
       "<Figure size 864x432 with 1 Axes>"
      ]
     },
     "metadata": {},
     "output_type": "display_data"
    }
   ],
   "source": [
    "plt.figure(figsize=(12, 6))\n",
    "plt.scatter(y_test, br_predictions)\n",
    "plt.plot(y_test, y_test, \"-r\")\n",
    "plt.legend([\"Prefect Prediction\", \"Actual Prediction\"])\n",
    "plt.title(\"Perfect Predictions vs Actual Predictions\");"
   ]
  },
  {
   "cell_type": "markdown",
   "metadata": {},
   "source": [
    "## 💾Save the model\n",
    "\n",
    "Exporting the BayesianRidge() model and the LinearRegression() model with the help of `\"joblib\"`"
   ]
  },
  {
   "cell_type": "code",
   "execution_count": 111,
   "metadata": {},
   "outputs": [],
   "source": [
    "from joblib import dump, load"
   ]
  },
  {
   "cell_type": "code",
   "execution_count": 112,
   "metadata": {},
   "outputs": [
    {
     "data": {
      "text/plain": [
       "['model/linear_regression_model.joblib']"
      ]
     },
     "execution_count": 112,
     "metadata": {},
     "output_type": "execute_result"
    }
   ],
   "source": [
    "# Save lr_model to file\n",
    "dump(value=lr_model,\n",
    "     filename=\"model/linear_regression_model.joblib\")"
   ]
  },
  {
   "cell_type": "code",
   "execution_count": 113,
   "metadata": {},
   "outputs": [
    {
     "data": {
      "text/plain": [
       "['model/bayesian_ridge_regression_model.joblib']"
      ]
     },
     "execution_count": 113,
     "metadata": {},
     "output_type": "execute_result"
    }
   ],
   "source": [
    "# Save br_model to file\n",
    "dump(value=br_model,\n",
    "     filename=\"model/bayesian_ridge_regression_model.joblib\")"
   ]
  },
  {
   "cell_type": "code",
   "execution_count": 114,
   "metadata": {},
   "outputs": [
    {
     "name": "stdout",
     "output_type": "stream",
     "text": [
      "Linear Regression Model:\n",
      "Root Mean Squared Error: 109.95660065987005\n",
      "Mean Absolute Error: 65.83806957131192\n",
      "\n",
      "Bayesian Ridge Regression:\n",
      "Root Mean Squared Error: 109.95737305522506\n",
      "Mean Absolute Error: 65.83974367176259\n"
     ]
    }
   ],
   "source": [
    "# Load the model\n",
    "loaded_lr_model = load(filename=\"model/linear_regression_model.joblib\")\n",
    "loaded_br_model = load(filename=\"model/bayesian_ridge_regression_model.joblib\")\n",
    "\n",
    "# Get predictions\n",
    "lr_preds = loaded_lr_model.predict(X_test)\n",
    "br_preds = loaded_br_model.predict(X_test)\n",
    "\n",
    "# Root Mean Squared Error and Mean Absolute Error\n",
    "lr_rmse = np.sqrt(mean_squared_error(y_test, lr_preds))\n",
    "br_rmse = np.sqrt(mean_squared_error(y_test, br_preds))\n",
    "lr_mae = mean_absolute_error(y_test, lr_preds)\n",
    "br_mae = mean_absolute_error(y_test, br_preds)\n",
    "\n",
    "print(\"Linear Regression Model:\")\n",
    "print(f\"Root Mean Squared Error: {lr_rmse}\")\n",
    "print(f\"Mean Absolute Error: {lr_mae}\")\n",
    "\n",
    "print()\n",
    "\n",
    "# Root Mean Squared Error and Mean Absolute Error\n",
    "\n",
    "\n",
    "print(\"Bayesian Ridge Regression:\")\n",
    "print(f\"Root Mean Squared Error: {br_rmse}\")\n",
    "print(f\"Mean Absolute Error: {br_mae}\")"
   ]
  }
 ],
 "metadata": {
  "kernelspec": {
   "display_name": "Python 3",
   "language": "python",
   "name": "python3"
  },
  "language_info": {
   "codemirror_mode": {
    "name": "ipython",
    "version": 3
   },
   "file_extension": ".py",
   "mimetype": "text/x-python",
   "name": "python",
   "nbconvert_exporter": "python",
   "pygments_lexer": "ipython3",
   "version": "3.8.5"
  }
 },
 "nbformat": 4,
 "nbformat_minor": 4
}
